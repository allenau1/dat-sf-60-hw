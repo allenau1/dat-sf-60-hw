{
 "cells": [
  {
   "cell_type": "markdown",
   "metadata": {},
   "source": [
    "# Class: [Data Science](https://git.generalassemb.ly/meccaLeccaHi/dat-sf-60)\n",
    "\n",
    "**Student:** [Allen Au](https://www.linkedin.com/in/auallen/)    \n",
    "    \n",
    "**Date:** Oct. 22, 2019\n",
    "\n",
    "## Project 2: Analyzing IMDb Data\n",
    "\n",
    "---"
   ]
  },
  {
   "cell_type": "markdown",
   "metadata": {},
   "source": [
    "## Basic level"
   ]
  },
  {
   "cell_type": "code",
   "execution_count": 2,
   "metadata": {},
   "outputs": [],
   "source": [
    "# Import libraries to read, anaylize and visualize data\n",
    "import pandas as pd\n",
    "import numpy as np\n",
    "import seaborn as sns\n",
    "import matplotlib.pyplot as plt\n",
    "\n",
    "from ast import literal_eval"
   ]
  },
  {
   "cell_type": "code",
   "execution_count": 3,
   "metadata": {},
   "outputs": [],
   "source": [
    "# this allows plots to appear directly in the notebook\n",
    "%matplotlib inline\n",
    "\n",
    "# this selects the 'style' that matplotlib will use to generate plots\n",
    "plt.style.use('fivethirtyeight')"
   ]
  },
  {
   "cell_type": "markdown",
   "metadata": {},
   "source": [
    "#### Read in 'imdb_1000.csv' and store it in a DataFrame named movies."
   ]
  },
  {
   "cell_type": "code",
   "execution_count": 4,
   "metadata": {},
   "outputs": [
    {
     "data": {
      "text/html": [
       "<div>\n",
       "<style scoped>\n",
       "    .dataframe tbody tr th:only-of-type {\n",
       "        vertical-align: middle;\n",
       "    }\n",
       "\n",
       "    .dataframe tbody tr th {\n",
       "        vertical-align: top;\n",
       "    }\n",
       "\n",
       "    .dataframe thead th {\n",
       "        text-align: right;\n",
       "    }\n",
       "</style>\n",
       "<table border=\"1\" class=\"dataframe\">\n",
       "  <thead>\n",
       "    <tr style=\"text-align: right;\">\n",
       "      <th></th>\n",
       "      <th>star_rating</th>\n",
       "      <th>title</th>\n",
       "      <th>content_rating</th>\n",
       "      <th>genre</th>\n",
       "      <th>duration</th>\n",
       "      <th>actors_list</th>\n",
       "    </tr>\n",
       "  </thead>\n",
       "  <tbody>\n",
       "    <tr>\n",
       "      <th>0</th>\n",
       "      <td>9.3</td>\n",
       "      <td>The Shawshank Redemption</td>\n",
       "      <td>R</td>\n",
       "      <td>Crime</td>\n",
       "      <td>142</td>\n",
       "      <td>[u'Tim Robbins', u'Morgan Freeman', u'Bob Gunt...</td>\n",
       "    </tr>\n",
       "    <tr>\n",
       "      <th>1</th>\n",
       "      <td>9.2</td>\n",
       "      <td>The Godfather</td>\n",
       "      <td>R</td>\n",
       "      <td>Crime</td>\n",
       "      <td>175</td>\n",
       "      <td>[u'Marlon Brando', u'Al Pacino', u'James Caan']</td>\n",
       "    </tr>\n",
       "    <tr>\n",
       "      <th>2</th>\n",
       "      <td>9.1</td>\n",
       "      <td>The Godfather: Part II</td>\n",
       "      <td>R</td>\n",
       "      <td>Crime</td>\n",
       "      <td>200</td>\n",
       "      <td>[u'Al Pacino', u'Robert De Niro', u'Robert Duv...</td>\n",
       "    </tr>\n",
       "    <tr>\n",
       "      <th>3</th>\n",
       "      <td>9.0</td>\n",
       "      <td>The Dark Knight</td>\n",
       "      <td>PG-13</td>\n",
       "      <td>Action</td>\n",
       "      <td>152</td>\n",
       "      <td>[u'Christian Bale', u'Heath Ledger', u'Aaron E...</td>\n",
       "    </tr>\n",
       "    <tr>\n",
       "      <th>4</th>\n",
       "      <td>8.9</td>\n",
       "      <td>Pulp Fiction</td>\n",
       "      <td>R</td>\n",
       "      <td>Crime</td>\n",
       "      <td>154</td>\n",
       "      <td>[u'John Travolta', u'Uma Thurman', u'Samuel L....</td>\n",
       "    </tr>\n",
       "  </tbody>\n",
       "</table>\n",
       "</div>"
      ],
      "text/plain": [
       "   star_rating                     title content_rating   genre  duration  \\\n",
       "0          9.3  The Shawshank Redemption              R   Crime       142   \n",
       "1          9.2             The Godfather              R   Crime       175   \n",
       "2          9.1    The Godfather: Part II              R   Crime       200   \n",
       "3          9.0           The Dark Knight          PG-13  Action       152   \n",
       "4          8.9              Pulp Fiction              R   Crime       154   \n",
       "\n",
       "                                         actors_list  \n",
       "0  [u'Tim Robbins', u'Morgan Freeman', u'Bob Gunt...  \n",
       "1    [u'Marlon Brando', u'Al Pacino', u'James Caan']  \n",
       "2  [u'Al Pacino', u'Robert De Niro', u'Robert Duv...  \n",
       "3  [u'Christian Bale', u'Heath Ledger', u'Aaron E...  \n",
       "4  [u'John Travolta', u'Uma Thurman', u'Samuel L....  "
      ]
     },
     "execution_count": 4,
     "metadata": {},
     "output_type": "execute_result"
    }
   ],
   "source": [
    "# Read imdb csv data into movies dataframe\n",
    "movies = pd.read_csv('./imdb_1000.csv')\n",
    "\n",
    "# Show the 1st 5 rows\n",
    "movies.head()"
   ]
  },
  {
   "cell_type": "markdown",
   "metadata": {},
   "source": [
    "#### Check the number of rows and columns.\n"
   ]
  },
  {
   "cell_type": "code",
   "execution_count": 5,
   "metadata": {},
   "outputs": [
    {
     "data": {
      "text/plain": [
       "<seaborn.axisgrid.PairGrid at 0x134cc0780>"
      ]
     },
     "execution_count": 5,
     "metadata": {},
     "output_type": "execute_result"
    },
    {
     "data": {
      "image/png": "[encoded data removed]",
      "text/plain": [
       "<Figure size 360x360 with 6 Axes>"
      ]
     },
     "metadata": {},
     "output_type": "display_data"
    }
   ],
   "source": [
    "sns.set(style=\"ticks\", color_codes=False)\n",
    "sns.pairplot(movies)"
   ]
  },
  {
   "cell_type": "code",
   "execution_count": 62,
   "metadata": {},
   "outputs": [
    {
     "data": {
      "text/plain": [
       "(979, 6)"
      ]
     },
     "execution_count": 62,
     "metadata": {},
     "output_type": "execute_result"
    }
   ],
   "source": [
    "# Display the number of rows x columns\n",
    "movies.shape"
   ]
  },
  {
   "cell_type": "code",
   "execution_count": 63,
   "metadata": {},
   "outputs": [
    {
     "data": {
      "text/plain": [
       "Index(['star_rating', 'title', 'content_rating', 'genre', 'duration',\n",
       "       'actors_list'],\n",
       "      dtype='object')"
      ]
     },
     "execution_count": 63,
     "metadata": {},
     "output_type": "execute_result"
    }
   ],
   "source": [
    "# Show the columns of the dateframe\n",
    "movies.columns"
   ]
  },
  {
   "cell_type": "markdown",
   "metadata": {},
   "source": [
    "#### Check the data type of each column."
   ]
  },
  {
   "cell_type": "code",
   "execution_count": 64,
   "metadata": {},
   "outputs": [
    {
     "data": {
      "text/plain": [
       "star_rating       float64\n",
       "title              object\n",
       "content_rating     object\n",
       "genre              object\n",
       "duration            int64\n",
       "actors_list        object\n",
       "dtype: object"
      ]
     },
     "execution_count": 64,
     "metadata": {},
     "output_type": "execute_result"
    }
   ],
   "source": [
    "# Data Types for each column\n",
    "movies.dtypes"
   ]
  },
  {
   "cell_type": "code",
   "execution_count": 65,
   "metadata": {
    "scrolled": true
   },
   "outputs": [
    {
     "name": "stdout",
     "output_type": "stream",
     "text": [
      "<class 'pandas.core.frame.DataFrame'>\n",
      "RangeIndex: 979 entries, 0 to 978\n",
      "Data columns (total 6 columns):\n",
      "star_rating       979 non-null float64\n",
      "title             979 non-null object\n",
      "content_rating    976 non-null object\n",
      "genre             979 non-null object\n",
      "duration          979 non-null int64\n",
      "actors_list       979 non-null object\n",
      "dtypes: float64(1), int64(1), object(4)\n",
      "memory usage: 46.0+ KB\n"
     ]
    }
   ],
   "source": [
    "#### Check the data type of each column.\n",
    "movies.info()"
   ]
  },
  {
   "cell_type": "markdown",
   "metadata": {},
   "source": [
    "#### Calculate the average movie duration."
   ]
  },
  {
   "cell_type": "code",
   "execution_count": 66,
   "metadata": {},
   "outputs": [
    {
     "data": {
      "text/plain": [
       "120.97957099080695"
      ]
     },
     "execution_count": 66,
     "metadata": {},
     "output_type": "execute_result"
    }
   ],
   "source": [
    "# Mean movie duration in minutes\n",
    "movies.duration.mean()"
   ]
  },
  {
   "cell_type": "markdown",
   "metadata": {},
   "source": [
    "#### Sort the DataFrame by duration to find the shortest and longest movies."
   ]
  },
  {
   "cell_type": "code",
   "execution_count": 67,
   "metadata": {},
   "outputs": [
    {
     "data": {
      "text/html": [
       "<div>\n",
       "<style scoped>\n",
       "    .dataframe tbody tr th:only-of-type {\n",
       "        vertical-align: middle;\n",
       "    }\n",
       "\n",
       "    .dataframe tbody tr th {\n",
       "        vertical-align: top;\n",
       "    }\n",
       "\n",
       "    .dataframe thead th {\n",
       "        text-align: right;\n",
       "    }\n",
       "</style>\n",
       "<table border=\"1\" class=\"dataframe\">\n",
       "  <thead>\n",
       "    <tr style=\"text-align: right;\">\n",
       "      <th></th>\n",
       "      <th>star_rating</th>\n",
       "      <th>title</th>\n",
       "      <th>content_rating</th>\n",
       "      <th>genre</th>\n",
       "      <th>duration</th>\n",
       "      <th>actors_list</th>\n",
       "    </tr>\n",
       "  </thead>\n",
       "  <tbody>\n",
       "    <tr>\n",
       "      <th>476</th>\n",
       "      <td>7.8</td>\n",
       "      <td>Hamlet</td>\n",
       "      <td>PG-13</td>\n",
       "      <td>Drama</td>\n",
       "      <td>242</td>\n",
       "      <td>[u'Kenneth Branagh', u'Julie Christie', u'Dere...</td>\n",
       "    </tr>\n",
       "  </tbody>\n",
       "</table>\n",
       "</div>"
      ],
      "text/plain": [
       "     star_rating   title content_rating  genre  duration  \\\n",
       "476          7.8  Hamlet          PG-13  Drama       242   \n",
       "\n",
       "                                           actors_list  \n",
       "476  [u'Kenneth Branagh', u'Julie Christie', u'Dere...  "
      ]
     },
     "execution_count": 67,
     "metadata": {},
     "output_type": "execute_result"
    }
   ],
   "source": [
    "# Longest movie\n",
    "movies.sort_values(by=['duration'], ascending=False).head(1)"
   ]
  },
  {
   "cell_type": "code",
   "execution_count": 68,
   "metadata": {},
   "outputs": [
    {
     "data": {
      "text/html": [
       "<div>\n",
       "<style scoped>\n",
       "    .dataframe tbody tr th:only-of-type {\n",
       "        vertical-align: middle;\n",
       "    }\n",
       "\n",
       "    .dataframe tbody tr th {\n",
       "        vertical-align: top;\n",
       "    }\n",
       "\n",
       "    .dataframe thead th {\n",
       "        text-align: right;\n",
       "    }\n",
       "</style>\n",
       "<table border=\"1\" class=\"dataframe\">\n",
       "  <thead>\n",
       "    <tr style=\"text-align: right;\">\n",
       "      <th></th>\n",
       "      <th>star_rating</th>\n",
       "      <th>title</th>\n",
       "      <th>content_rating</th>\n",
       "      <th>genre</th>\n",
       "      <th>duration</th>\n",
       "      <th>actors_list</th>\n",
       "    </tr>\n",
       "  </thead>\n",
       "  <tbody>\n",
       "    <tr>\n",
       "      <th>389</th>\n",
       "      <td>8.0</td>\n",
       "      <td>Freaks</td>\n",
       "      <td>UNRATED</td>\n",
       "      <td>Drama</td>\n",
       "      <td>64</td>\n",
       "      <td>[u'Wallace Ford', u'Leila Hyams', u'Olga Bacla...</td>\n",
       "    </tr>\n",
       "  </tbody>\n",
       "</table>\n",
       "</div>"
      ],
      "text/plain": [
       "     star_rating   title content_rating  genre  duration  \\\n",
       "389          8.0  Freaks        UNRATED  Drama        64   \n",
       "\n",
       "                                           actors_list  \n",
       "389  [u'Wallace Ford', u'Leila Hyams', u'Olga Bacla...  "
      ]
     },
     "execution_count": 68,
     "metadata": {},
     "output_type": "execute_result"
    }
   ],
   "source": [
    "# Shortest movie\n",
    "movies.sort_values(by=['duration'], ascending=False).tail(1)"
   ]
  },
  {
   "cell_type": "markdown",
   "metadata": {},
   "source": [
    "#### Create a histogram of duration, choosing an \"appropriate\" number of bins."
   ]
  },
  {
   "cell_type": "code",
   "execution_count": 69,
   "metadata": {},
   "outputs": [
    {
     "data": {
      "image/png": "[encoded data removed]",
      "text/plain": [
       "<Figure size 864x432 with 1 Axes>"
      ]
     },
     "metadata": {},
     "output_type": "display_data"
    }
   ],
   "source": [
    "# Histogram for duration\n",
    "# Using rule of thumb for number of bins: sqrt(979) = 33 bins\n",
    "ax = movies['duration'].hist(bins=31, figsize=(12,6))\n",
    "\n",
    "ax.set_title('Histogram of Movie Duration')\n",
    "ax.set_xlabel(\"Movie Durations Bins\");\n",
    "ax.set_ylabel(\"Count\");"
   ]
  },
  {
   "cell_type": "markdown",
   "metadata": {},
   "source": [
    "#### Use a box plot to display that same data.\n"
   ]
  },
  {
   "cell_type": "code",
   "execution_count": 70,
   "metadata": {},
   "outputs": [
    {
     "data": {
      "image/png": "[encoded data removed]",
      "text/plain": [
       "<Figure size 864x432 with 1 Axes>"
      ]
     },
     "metadata": {},
     "output_type": "display_data"
    }
   ],
   "source": [
    "# Box plot for Movie Duration\n",
    "ax = movies.boxplot(['duration'], figsize=(12,6))\n",
    "ax.set_title('Box Plot of Movie Duration')\n",
    "ax.set_ylabel(\"Count\");"
   ]
  },
  {
   "cell_type": "markdown",
   "metadata": {},
   "source": [
    "# Intermediate Level"
   ]
  },
  {
   "cell_type": "markdown",
   "metadata": {},
   "source": [
    "#### Count how many movies have each of the content ratings."
   ]
  },
  {
   "cell_type": "code",
   "execution_count": 71,
   "metadata": {},
   "outputs": [
    {
     "data": {
      "text/plain": [
       "R            460\n",
       "PG-13        189\n",
       "PG           123\n",
       "NOT RATED     65\n",
       "APPROVED      47\n",
       "UNRATED       38\n",
       "G             32\n",
       "NC-17          7\n",
       "PASSED         7\n",
       "X              4\n",
       "GP             3\n",
       "TV-MA          1\n",
       "Name: content_rating, dtype: int64"
      ]
     },
     "execution_count": 71,
     "metadata": {},
     "output_type": "execute_result"
    }
   ],
   "source": [
    "# Count of movies for each rating\n",
    "movies['content_rating'].value_counts()"
   ]
  },
  {
   "cell_type": "markdown",
   "metadata": {},
   "source": [
    "#### Use a visualization to display that same data, including a title and x and y labels."
   ]
  },
  {
   "cell_type": "code",
   "execution_count": 72,
   "metadata": {},
   "outputs": [
    {
     "data": {
      "image/png": "[encoded data removed]",
      "text/plain": [
       "<Figure size 864x432 with 1 Axes>"
      ]
     },
     "metadata": {},
     "output_type": "display_data"
    }
   ],
   "source": [
    "# Count of Movies by Content Rating\n",
    "ax = movies.content_rating.value_counts().plot.bar(figsize=(12,6))\n",
    "ax.set_title(\"Movie Count by Content Ratings\");\n",
    "ax.set_xlabel(\"Content Rating\");\n",
    "ax.set_ylabel(\"Count\");"
   ]
  },
  {
   "cell_type": "markdown",
   "metadata": {},
   "source": [
    "#### Convert the following content ratings to \"UNRATED\": NOT RATED, APPROVED, PASSED, GP."
   ]
  },
  {
   "cell_type": "code",
   "execution_count": 73,
   "metadata": {},
   "outputs": [
    {
     "data": {
      "text/plain": [
       "R          460\n",
       "PG-13      189\n",
       "UNRATED    160\n",
       "PG         123\n",
       "G           32\n",
       "NC-17        7\n",
       "X            4\n",
       "TV-MA        1\n",
       "Name: content_rating, dtype: int64"
      ]
     },
     "execution_count": 73,
     "metadata": {},
     "output_type": "execute_result"
    }
   ],
   "source": [
    "# Replacing with UNRATED\n",
    "movies = movies.replace(['NOT RATED', 'APPROVED', 'PASSED', 'GP'],'UNRATED')\n",
    "movies['content_rating'].value_counts()"
   ]
  },
  {
   "cell_type": "markdown",
   "metadata": {},
   "source": [
    "#### Convert the following content ratings to \"NC-17\": X, TV-MA."
   ]
  },
  {
   "cell_type": "code",
   "execution_count": 74,
   "metadata": {},
   "outputs": [
    {
     "data": {
      "text/plain": [
       "R          460\n",
       "PG-13      189\n",
       "UNRATED    160\n",
       "PG         123\n",
       "G           32\n",
       "NC-17       12\n",
       "Name: content_rating, dtype: int64"
      ]
     },
     "execution_count": 74,
     "metadata": {},
     "output_type": "execute_result"
    }
   ],
   "source": [
    "# Replacing with NC-17\n",
    "movies = movies.replace(['X', 'TV-MA'],'NC-17')\n",
    "movies['content_rating'].value_counts()"
   ]
  },
  {
   "cell_type": "code",
   "execution_count": 75,
   "metadata": {},
   "outputs": [
    {
     "data": {
      "image/png": "[encoded data removed]",
      "text/plain": [
       "<Figure size 864x432 with 1 Axes>"
      ]
     },
     "metadata": {},
     "output_type": "display_data"
    }
   ],
   "source": [
    "# Count of Movies by Content Rating after multiple replcements\n",
    "ax = movies.content_rating.value_counts().plot.bar(figsize=(12,6))\n",
    "ax.set_title(\"Movie Count by Content Ratings\");\n",
    "ax.set_xlabel(\"Content Rating\");\n",
    "ax.set_ylabel(\"Count\");"
   ]
  },
  {
   "cell_type": "markdown",
   "metadata": {},
   "source": [
    "#### Count the number of missing values in each column."
   ]
  },
  {
   "cell_type": "code",
   "execution_count": 76,
   "metadata": {},
   "outputs": [
    {
     "data": {
      "text/plain": [
       "star_rating       0\n",
       "title             0\n",
       "content_rating    3\n",
       "genre             0\n",
       "duration          0\n",
       "actors_list       0\n",
       "dtype: int64"
      ]
     },
     "execution_count": 76,
     "metadata": {},
     "output_type": "execute_result"
    }
   ],
   "source": [
    "# The number of NaNs for eac column\n",
    "movies.isna().sum()"
   ]
  },
  {
   "cell_type": "markdown",
   "metadata": {},
   "source": [
    "#### If there are missing values: examine them, then fill them in with \"reasonable\" values."
   ]
  },
  {
   "cell_type": "code",
   "execution_count": 77,
   "metadata": {},
   "outputs": [
    {
     "data": {
      "text/plain": [
       "star_rating       0\n",
       "title             0\n",
       "content_rating    0\n",
       "genre             0\n",
       "duration          0\n",
       "actors_list       0\n",
       "dtype: int64"
      ]
     },
     "execution_count": 77,
     "metadata": {},
     "output_type": "execute_result"
    }
   ],
   "source": [
    "# Fill NaNs with \"UNRATED\"\n",
    "movies.content_rating.fillna(\"UNRATED\", inplace=True)\n",
    "movies.isna().sum()"
   ]
  },
  {
   "cell_type": "markdown",
   "metadata": {},
   "source": [
    "#### Calculate the average star rating for movies 2 hours or longer, and compare that with the average star rating for movies shorter than 2 hours."
   ]
  },
  {
   "cell_type": "code",
   "execution_count": 78,
   "metadata": {},
   "outputs": [
    {
     "data": {
      "text/plain": [
       "7.838666666666657"
      ]
     },
     "execution_count": 78,
     "metadata": {},
     "output_type": "execute_result"
    }
   ],
   "source": [
    "# Mean Start Rating for movies shorter than 2hrs\n",
    "movies[(movies['duration'] < 120)].star_rating.mean()"
   ]
  },
  {
   "cell_type": "code",
   "execution_count": 79,
   "metadata": {},
   "outputs": [
    {
     "data": {
      "text/plain": [
       "7.948898678414082"
      ]
     },
     "execution_count": 79,
     "metadata": {},
     "output_type": "execute_result"
    }
   ],
   "source": [
    "# Mean Start Rating for movies longer or euqal to 2hrs\n",
    "movies[(movies['duration'] >= 120)].star_rating.mean()"
   ]
  },
  {
   "cell_type": "markdown",
   "metadata": {},
   "source": [
    "#### Use a visualization to detect whether there is a relationship between duration and star rating."
   ]
  },
  {
   "cell_type": "code",
   "execution_count": 80,
   "metadata": {},
   "outputs": [
    {
     "data": {
      "image/png": "[encoded data removed]",
      "text/plain": [
       "<Figure size 432x288 with 1 Axes>"
      ]
     },
     "metadata": {},
     "output_type": "display_data"
    }
   ],
   "source": [
    "ax = movies.plot.scatter(x='duration', y='star_rating')\n",
    "ax.set_title(\"Movie Start Rating vs. Duration\");\n",
    "ax.set_xlabel(\"Duration\");\n",
    "ax.set_ylabel(\"Star Rating\");"
   ]
  },
  {
   "cell_type": "code",
   "execution_count": 81,
   "metadata": {},
   "outputs": [],
   "source": [
    "#movies.genre.value_counts()"
   ]
  },
  {
   "cell_type": "markdown",
   "metadata": {},
   "source": [
    "#### Calculate the average duration for each genre."
   ]
  },
  {
   "cell_type": "code",
   "execution_count": 82,
   "metadata": {},
   "outputs": [
    {
     "data": {
      "text/plain": [
       "126.53956834532374"
      ]
     },
     "execution_count": 82,
     "metadata": {},
     "output_type": "execute_result"
    }
   ],
   "source": [
    "movies[movies['genre'] == 'Drama'].duration.mean()"
   ]
  },
  {
   "cell_type": "code",
   "execution_count": 83,
   "metadata": {},
   "outputs": [
    {
     "data": {
      "text/plain": [
       "107.6025641025641"
      ]
     },
     "execution_count": 83,
     "metadata": {},
     "output_type": "execute_result"
    }
   ],
   "source": [
    "movies[movies['genre'] == 'Comedy'].duration.mean()"
   ]
  },
  {
   "cell_type": "code",
   "execution_count": 84,
   "metadata": {},
   "outputs": [
    {
     "data": {
      "text/plain": [
       "126.48529411764706"
      ]
     },
     "execution_count": 84,
     "metadata": {},
     "output_type": "execute_result"
    }
   ],
   "source": [
    "movies[movies['genre'] == 'Action'].duration.mean()"
   ]
  },
  {
   "cell_type": "code",
   "execution_count": 85,
   "metadata": {},
   "outputs": [
    {
     "data": {
      "text/plain": [
       "122.29838709677419"
      ]
     },
     "execution_count": 85,
     "metadata": {},
     "output_type": "execute_result"
    }
   ],
   "source": [
    "movies[movies['genre'] == 'Crime'].duration.mean()"
   ]
  },
  {
   "cell_type": "code",
   "execution_count": 86,
   "metadata": {},
   "outputs": [
    {
     "data": {
      "text/plain": [
       "131.84415584415584"
      ]
     },
     "execution_count": 86,
     "metadata": {},
     "output_type": "execute_result"
    }
   ],
   "source": [
    "movies[movies['genre'] == 'Biography'].duration.mean()"
   ]
  },
  {
   "cell_type": "code",
   "execution_count": 87,
   "metadata": {},
   "outputs": [
    {
     "data": {
      "text/plain": [
       "134.84"
      ]
     },
     "execution_count": 87,
     "metadata": {},
     "output_type": "execute_result"
    }
   ],
   "source": [
    "movies[movies['genre'] == 'Adventure'].duration.mean()"
   ]
  },
  {
   "cell_type": "code",
   "execution_count": 88,
   "metadata": {},
   "outputs": [
    {
     "data": {
      "text/plain": [
       "96.59677419354838"
      ]
     },
     "execution_count": 88,
     "metadata": {},
     "output_type": "execute_result"
    }
   ],
   "source": [
    "movies[movies['genre'] == 'Animation'].duration.mean()"
   ]
  },
  {
   "cell_type": "code",
   "execution_count": 89,
   "metadata": {},
   "outputs": [
    {
     "data": {
      "text/plain": [
       "102.51724137931035"
      ]
     },
     "execution_count": 89,
     "metadata": {},
     "output_type": "execute_result"
    }
   ],
   "source": [
    "movies[movies['genre'] == 'Horror'].duration.mean()"
   ]
  },
  {
   "cell_type": "code",
   "execution_count": 90,
   "metadata": {},
   "outputs": [
    {
     "data": {
      "text/plain": [
       "115.625"
      ]
     },
     "execution_count": 90,
     "metadata": {},
     "output_type": "execute_result"
    }
   ],
   "source": [
    "movies[movies['genre'] == 'Mystery'].duration.mean()"
   ]
  },
  {
   "cell_type": "code",
   "execution_count": 91,
   "metadata": {},
   "outputs": [
    {
     "data": {
      "text/plain": [
       "136.66666666666666"
      ]
     },
     "execution_count": 91,
     "metadata": {},
     "output_type": "execute_result"
    }
   ],
   "source": [
    "movies[movies['genre'] == 'Western'].duration.mean()"
   ]
  },
  {
   "cell_type": "code",
   "execution_count": 92,
   "metadata": {},
   "outputs": [
    {
     "data": {
      "text/plain": [
       "114.2"
      ]
     },
     "execution_count": 92,
     "metadata": {},
     "output_type": "execute_result"
    }
   ],
   "source": [
    "movies[movies['genre'] == 'Thriller'].duration.mean()"
   ]
  },
  {
   "cell_type": "code",
   "execution_count": 93,
   "metadata": {},
   "outputs": [
    {
     "data": {
      "text/plain": [
       "109.0"
      ]
     },
     "execution_count": 93,
     "metadata": {},
     "output_type": "execute_result"
    }
   ],
   "source": [
    "movies[movies['genre'] == 'Sci-Fi'].duration.mean()"
   ]
  },
  {
   "cell_type": "code",
   "execution_count": 94,
   "metadata": {},
   "outputs": [
    {
     "data": {
      "text/plain": [
       "97.33333333333333"
      ]
     },
     "execution_count": 94,
     "metadata": {},
     "output_type": "execute_result"
    }
   ],
   "source": [
    "movies[movies['genre'] == 'Film-Noir'].duration.mean()"
   ]
  },
  {
   "cell_type": "code",
   "execution_count": 95,
   "metadata": {},
   "outputs": [
    {
     "data": {
      "text/plain": [
       "107.5"
      ]
     },
     "execution_count": 95,
     "metadata": {},
     "output_type": "execute_result"
    }
   ],
   "source": [
    "movies[movies['genre'] == 'Family'].duration.mean()"
   ]
  },
  {
   "cell_type": "code",
   "execution_count": 96,
   "metadata": {},
   "outputs": [
    {
     "data": {
      "text/plain": [
       "66.0"
      ]
     },
     "execution_count": 96,
     "metadata": {},
     "output_type": "execute_result"
    }
   ],
   "source": [
    "movies[movies['genre'] == 'History'].duration.mean()"
   ]
  },
  {
   "cell_type": "code",
   "execution_count": 97,
   "metadata": {},
   "outputs": [
    {
     "data": {
      "text/plain": [
       "112.0"
      ]
     },
     "execution_count": 97,
     "metadata": {},
     "output_type": "execute_result"
    }
   ],
   "source": [
    "movies[movies['genre'] == 'Fantasy'].duration.mean()"
   ]
  },
  {
   "cell_type": "code",
   "execution_count": 98,
   "metadata": {},
   "outputs": [
    {
     "data": {
      "text/plain": [
       "genre\n",
       "Action       126.485294\n",
       "Adventure    134.840000\n",
       "Animation     96.596774\n",
       "Biography    131.844156\n",
       "Comedy       107.602564\n",
       "Crime        122.298387\n",
       "Drama        126.539568\n",
       "Family       107.500000\n",
       "Fantasy      112.000000\n",
       "Film-Noir     97.333333\n",
       "History       66.000000\n",
       "Horror       102.517241\n",
       "Mystery      115.625000\n",
       "Sci-Fi       109.000000\n",
       "Thriller     114.200000\n",
       "Western      136.666667\n",
       "Name: duration, dtype: float64"
      ]
     },
     "execution_count": 98,
     "metadata": {},
     "output_type": "execute_result"
    }
   ],
   "source": [
    "movies.groupby('genre').duration.mean()"
   ]
  },
  {
   "cell_type": "markdown",
   "metadata": {},
   "source": [
    "# Advance Level"
   ]
  },
  {
   "cell_type": "markdown",
   "metadata": {},
   "source": [
    "#### Visualize the relationship between content rating and duration."
   ]
  },
  {
   "cell_type": "code",
   "execution_count": 99,
   "metadata": {},
   "outputs": [
    {
     "data": {
      "image/png": "[encoded data removed]",
      "text/plain": [
       "<Figure size 864x432 with 1 Axes>"
      ]
     },
     "metadata": {},
     "output_type": "display_data"
    }
   ],
   "source": [
    "# Content Ratings by Duration\n",
    "ax = movies.boxplot(column='duration', by='content_rating', figsize=(12,6));\n",
    "plt.suptitle(\"\") # Gets rid of title automatically generated\n",
    "ax.set_title('Duration by Content Rating');\n",
    "ax.set_xlabel('Content Rating');\n",
    "ax.set_ylabel('Duration');"
   ]
  },
  {
   "cell_type": "code",
   "execution_count": 100,
   "metadata": {},
   "outputs": [],
   "source": [
    "#movies.groupcontent_rating"
   ]
  },
  {
   "cell_type": "markdown",
   "metadata": {},
   "source": [
    "#### Determine the top rated movie (by star rating) for each genre."
   ]
  },
  {
   "cell_type": "code",
   "execution_count": 101,
   "metadata": {},
   "outputs": [
    {
     "name": "stdout",
     "output_type": "stream",
     "text": [
      "   genre                     title  star_rating\n",
      "0  Crime  The Shawshank Redemption          9.3\n",
      "    genre            title  star_rating\n",
      "3  Action  The Dark Knight          9.0\n",
      "   genre         title  star_rating\n",
      "5  Drama  12 Angry Men          8.9\n",
      "     genre                           title  star_rating\n",
      "6  Western  The Good, the Bad and the Ugly          8.9\n",
      "       genre                                          title  star_rating\n",
      "7  Adventure  The Lord of the Rings: The Return of the King          8.9\n",
      "       genre             title  star_rating\n",
      "8  Biography  Schindler's List          8.9\n",
      "     genre              title  star_rating\n",
      "25  Comedy  Life Is Beautiful          8.6\n",
      "        genre          title  star_rating\n",
      "30  Animation  Spirited Away          8.6\n",
      "      genre        title  star_rating\n",
      "38  Mystery  Rear Window          8.6\n",
      "     genre   title  star_rating\n",
      "39  Horror  Psycho          8.6\n",
      "         genre          title  star_rating\n",
      "105  Film-Noir  The Third Man          8.3\n",
      "      genre         title  star_rating\n",
      "145  Sci-Fi  Blade Runner          8.2\n",
      "       genre                title  star_rating\n",
      "338  History  Battleship Potemkin          8.0\n",
      "        genre              title  star_rating\n",
      "350  Thriller  Shadow of a Doubt          8.0\n",
      "      genre                       title  star_rating\n",
      "468  Family  E.T. the Extra-Terrestrial          7.9\n",
      "       genre                      title  star_rating\n",
      "638  Fantasy  The City of Lost Children          7.7\n"
     ]
    }
   ],
   "source": [
    "# Option 1: Iterate with python\n",
    "\n",
    "# Generate list of unque genres\n",
    "unique_genres = movies.genre.unique()\n",
    "\n",
    "# Iterate through unique genres\n",
    "for g in unique_genres:\n",
    "    # Filter movies given a genre; sort by star_rating; find the higest rating \n",
    "    max_star = movies[movies['genre'] == g].sort_values('star_rating', ascending=False).head(1)\n",
    "    # Create a slice movies to only include genre, title, and star_rating\n",
    "    max_star = max_star[['genre', 'title', 'star_rating']]\n",
    "    print(max_star)\n",
    "    #print(\"Max Star Rating: {}\".format(max_star))"
   ]
  },
  {
   "cell_type": "code",
   "execution_count": 102,
   "metadata": {},
   "outputs": [
    {
     "data": {
      "text/plain": [
       "genre\n",
       "Action       9.0\n",
       "Adventure    8.9\n",
       "Animation    8.6\n",
       "Biography    8.9\n",
       "Comedy       8.6\n",
       "Crime        9.3\n",
       "Drama        8.9\n",
       "Family       7.9\n",
       "Fantasy      7.7\n",
       "Film-Noir    8.3\n",
       "History      8.0\n",
       "Horror       8.6\n",
       "Mystery      8.6\n",
       "Sci-Fi       8.2\n",
       "Thriller     8.0\n",
       "Western      8.9\n",
       "Name: star_rating, dtype: float64"
      ]
     },
     "execution_count": 102,
     "metadata": {},
     "output_type": "execute_result"
    }
   ],
   "source": [
    "# Option 2: Use pandas groupby\n",
    "\n",
    "# movies[movies['genre'] == 'Sci-Fi'].sort_values(by='star_rating', ascending=False).head(1)\n",
    "movies.groupby('genre').star_rating.max()"
   ]
  },
  {
   "cell_type": "markdown",
   "metadata": {},
   "source": [
    "#### Check if there are multiple movies with the same title, and if so, determine if they are actually duplicates."
   ]
  },
  {
   "cell_type": "code",
   "execution_count": 103,
   "metadata": {},
   "outputs": [
    {
     "data": {
      "text/html": [
       "<div>\n",
       "<style scoped>\n",
       "    .dataframe tbody tr th:only-of-type {\n",
       "        vertical-align: middle;\n",
       "    }\n",
       "\n",
       "    .dataframe tbody tr th {\n",
       "        vertical-align: top;\n",
       "    }\n",
       "\n",
       "    .dataframe thead th {\n",
       "        text-align: right;\n",
       "    }\n",
       "</style>\n",
       "<table border=\"1\" class=\"dataframe\">\n",
       "  <thead>\n",
       "    <tr style=\"text-align: right;\">\n",
       "      <th></th>\n",
       "      <th>star_rating</th>\n",
       "      <th>title</th>\n",
       "      <th>content_rating</th>\n",
       "      <th>genre</th>\n",
       "      <th>duration</th>\n",
       "      <th>actors_list</th>\n",
       "    </tr>\n",
       "  </thead>\n",
       "  <tbody>\n",
       "    <tr>\n",
       "      <th>466</th>\n",
       "      <td>7.9</td>\n",
       "      <td>The Girl with the Dragon Tattoo</td>\n",
       "      <td>R</td>\n",
       "      <td>Crime</td>\n",
       "      <td>158</td>\n",
       "      <td>[u'Daniel Craig', u'Rooney Mara', u'Christophe...</td>\n",
       "    </tr>\n",
       "    <tr>\n",
       "      <th>482</th>\n",
       "      <td>7.8</td>\n",
       "      <td>The Girl with the Dragon Tattoo</td>\n",
       "      <td>R</td>\n",
       "      <td>Crime</td>\n",
       "      <td>152</td>\n",
       "      <td>[u'Michael Nyqvist', u'Noomi Rapace', u'Ewa Fr...</td>\n",
       "    </tr>\n",
       "    <tr>\n",
       "      <th>662</th>\n",
       "      <td>7.7</td>\n",
       "      <td>True Grit</td>\n",
       "      <td>PG-13</td>\n",
       "      <td>Adventure</td>\n",
       "      <td>110</td>\n",
       "      <td>[u'Jeff Bridges', u'Matt Damon', u'Hailee Stei...</td>\n",
       "    </tr>\n",
       "    <tr>\n",
       "      <th>678</th>\n",
       "      <td>7.7</td>\n",
       "      <td>Les Miserables</td>\n",
       "      <td>PG-13</td>\n",
       "      <td>Drama</td>\n",
       "      <td>158</td>\n",
       "      <td>[u'Hugh Jackman', u'Russell Crowe', u'Anne Hat...</td>\n",
       "    </tr>\n",
       "    <tr>\n",
       "      <th>703</th>\n",
       "      <td>7.6</td>\n",
       "      <td>Dracula</td>\n",
       "      <td>UNRATED</td>\n",
       "      <td>Horror</td>\n",
       "      <td>85</td>\n",
       "      <td>[u'Bela Lugosi', u'Helen Chandler', u'David Ma...</td>\n",
       "    </tr>\n",
       "    <tr>\n",
       "      <th>905</th>\n",
       "      <td>7.5</td>\n",
       "      <td>Dracula</td>\n",
       "      <td>R</td>\n",
       "      <td>Horror</td>\n",
       "      <td>128</td>\n",
       "      <td>[u'Gary Oldman', u'Winona Ryder', u'Anthony Ho...</td>\n",
       "    </tr>\n",
       "    <tr>\n",
       "      <th>924</th>\n",
       "      <td>7.5</td>\n",
       "      <td>Les Miserables</td>\n",
       "      <td>PG-13</td>\n",
       "      <td>Crime</td>\n",
       "      <td>134</td>\n",
       "      <td>[u'Liam Neeson', u'Geoffrey Rush', u'Uma Thurm...</td>\n",
       "    </tr>\n",
       "    <tr>\n",
       "      <th>936</th>\n",
       "      <td>7.4</td>\n",
       "      <td>True Grit</td>\n",
       "      <td>UNRATED</td>\n",
       "      <td>Adventure</td>\n",
       "      <td>128</td>\n",
       "      <td>[u'John Wayne', u'Kim Darby', u'Glen Campbell']</td>\n",
       "    </tr>\n",
       "  </tbody>\n",
       "</table>\n",
       "</div>"
      ],
      "text/plain": [
       "     star_rating                            title content_rating      genre  \\\n",
       "466          7.9  The Girl with the Dragon Tattoo              R      Crime   \n",
       "482          7.8  The Girl with the Dragon Tattoo              R      Crime   \n",
       "662          7.7                        True Grit          PG-13  Adventure   \n",
       "678          7.7                   Les Miserables          PG-13      Drama   \n",
       "703          7.6                          Dracula        UNRATED     Horror   \n",
       "905          7.5                          Dracula              R     Horror   \n",
       "924          7.5                   Les Miserables          PG-13      Crime   \n",
       "936          7.4                        True Grit        UNRATED  Adventure   \n",
       "\n",
       "     duration                                        actors_list  \n",
       "466       158  [u'Daniel Craig', u'Rooney Mara', u'Christophe...  \n",
       "482       152  [u'Michael Nyqvist', u'Noomi Rapace', u'Ewa Fr...  \n",
       "662       110  [u'Jeff Bridges', u'Matt Damon', u'Hailee Stei...  \n",
       "678       158  [u'Hugh Jackman', u'Russell Crowe', u'Anne Hat...  \n",
       "703        85  [u'Bela Lugosi', u'Helen Chandler', u'David Ma...  \n",
       "905       128  [u'Gary Oldman', u'Winona Ryder', u'Anthony Ho...  \n",
       "924       134  [u'Liam Neeson', u'Geoffrey Rush', u'Uma Thurm...  \n",
       "936       128    [u'John Wayne', u'Kim Darby', u'Glen Campbell']  "
      ]
     },
     "execution_count": 103,
     "metadata": {},
     "output_type": "execute_result"
    }
   ],
   "source": [
    "# Find duplicates and print all rows\n",
    "movies[movies['title'].duplicated(False)]"
   ]
  },
  {
   "cell_type": "markdown",
   "metadata": {},
   "source": [
    "Upon review of the movies with duplicate titles, the movies are not real duplicates based on the following: \n",
    "* The Girl wth the Dragon Tatoo: Duration and actors are different\n",
    "* True Grit: Duction is different and actors are diffent\n",
    "* Les Miserables: Genre, Duration, and actors are different\n",
    "* Dracula: Duration and actors are different"
   ]
  },
  {
   "cell_type": "markdown",
   "metadata": {},
   "source": [
    "#### Calculate the average star rating for each genre, but only include genres with at least 10 movies"
   ]
  },
  {
   "cell_type": "code",
   "execution_count": 104,
   "metadata": {},
   "outputs": [],
   "source": [
    "# Creates array of unique movie genres\n",
    "unique_genres = movies.genre.unique()\n",
    "#print(unique_genres)"
   ]
  },
  {
   "cell_type": "code",
   "execution_count": 105,
   "metadata": {},
   "outputs": [
    {
     "name": "stdout",
     "output_type": "stream",
     "text": [
      "Crime has >= 10 movies with Mean Star Rating: 7.916935483870971 \n",
      "Action has >= 10 movies with Mean Star Rating: 7.88455882352942 \n",
      "Drama has >= 10 movies with Mean Star Rating: 7.902517985611515 \n",
      "Adventure has >= 10 movies with Mean Star Rating: 7.933333333333332 \n",
      "Biography has >= 10 movies with Mean Star Rating: 7.862337662337664 \n",
      "Comedy has >= 10 movies with Mean Star Rating: 7.82243589743591 \n",
      "Animation has >= 10 movies with Mean Star Rating: 7.914516129032259 \n",
      "Mystery has >= 10 movies with Mean Star Rating: 7.975 \n",
      "Horror has >= 10 movies with Mean Star Rating: 7.8068965517241375 \n"
     ]
    }
   ],
   "source": [
    "# Iteraate unique list of unique movie genres\n",
    "for genre in unique_genres:    \n",
    "    # Identifies movie genres with more than 10 movies\n",
    "    if (movies[movies['genre'] == genre].star_rating.count()) >= 10:\n",
    "        # Calculates and prints the mean star_rating\n",
    "        mean_star_rating_for_g = movies[movies['genre'] == genre].star_rating.mean()\n",
    "        print(\"{} has >= 10 movies with Mean Star Rating: {} \".format(genre, mean_star_rating_for_g))\n",
    "    \n",
    "#movies.groupby('genre').star_rating.mean()"
   ]
  },
  {
   "cell_type": "markdown",
   "metadata": {},
   "source": [
    "## Bonus"
   ]
  },
  {
   "cell_type": "markdown",
   "metadata": {},
   "source": [
    "#### Figure out something \"interesting\" using the actors data!"
   ]
  },
  {
   "cell_type": "markdown",
   "metadata": {},
   "source": []
  },
  {
   "cell_type": "code",
   "execution_count": 106,
   "metadata": {},
   "outputs": [],
   "source": [
    "# Pointers:\n",
    "# https://stackoverflow.com/questions/20510768/count-frequency-of-words-in-a-list-and-sort-by-frequency\n",
    "# https://programminghistorian.org/en/lessons/counting-frequencies\n",
    "# https://www.geeksforgeeks.org/counting-the-frequencies-in-a-list-using-dictionary-in-python/\n",
    "\n",
    "# https://stackoverflow.com/questions/23119472/in-pandas-python-reading-array-stored-as-string\n",
    "\n",
    "act = movies['actors_list']\n",
    "#for actors in act:\n",
    "#    print(type(actors))\n",
    "#    print(\">>{}<<\".format(actors))"
   ]
  },
  {
   "cell_type": "markdown",
   "metadata": {},
   "source": [
    "##### Are there actors in multiple movies?"
   ]
  },
  {
   "cell_type": "code",
   "execution_count": 107,
   "metadata": {},
   "outputs": [
    {
     "name": "stdout",
     "output_type": "stream",
     "text": [
      "Actor : Movie Count\n",
      " Tim Robbins : 5\n",
      " Morgan Freeman : 8\n",
      " Bob Gunton : 1\n",
      " Marlon Brando : 4\n",
      " Al Pacino : 13\n",
      " James Caan : 2\n",
      " Robert De Niro : 18\n",
      " Robert Duvall : 7\n",
      " Christian Bale : 11\n",
      " Heath Ledger : 2\n",
      " Aaron Eckhart : 2\n",
      " John Travolta : 1\n",
      " Uma Thurman : 5\n",
      " Samuel L. Jackson : 6\n",
      " Henry Fonda : 3\n",
      " Lee J. Cobb : 2\n",
      " Martin Balsam : 1\n",
      " Clint Eastwood : 14\n",
      " Eli Wallach : 1\n",
      " Lee Van Cleef : 2\n",
      " Elijah Wood : 5\n",
      " Viggo Mortensen : 4\n",
      " Ian McKellen : 8\n",
      " Liam Neeson : 5\n",
      " Ralph Fiennes : 7\n",
      " Ben Kingsley : 4\n",
      " Brad Pitt : 14\n",
      " Edward Norton : 7\n",
      " Helena Bonham Carter : 4\n",
      " Orlando Bloom : 2\n",
      " Leonardo DiCaprio : 11\n",
      " Joseph Gordon-Levitt : 6\n",
      " Ellen Page : 2\n",
      " Mark Hamill : 3\n",
      " Harrison Ford : 10\n",
      " Carrie Fisher : 4\n",
      " Tom Hanks : 14\n",
      " Robin Wright : 3\n",
      " Gary Sinise : 2\n",
      " Matthew McConaughey : 4\n",
      " Anne Hathaway : 3\n",
      " Jessica Chastain : 3\n",
      " Jack Nicholson : 9\n",
      " Louise Fletcher : 1\n",
      " Michael Berryman : 1\n",
      " Toshirô Mifune : 3\n",
      " Takashi Shimura : 2\n",
      " Keiko Tsushima : 1\n",
      " Ray Liotta : 2\n",
      " Joe Pesci : 5\n",
      " Keanu Reeves : 3\n",
      " Laurence Fishburne : 2\n",
      " Carrie-Anne Moss : 2\n",
      " Alexandre Rodrigues : 1\n",
      " Matheus Nachtergaele : 1\n",
      " Leandro Firmino : 1\n",
      " James Stewart : 10\n",
      " Donna Reed : 1\n",
      " Lionel Barrymore : 1\n",
      " Kevin Spacey : 6\n",
      " Gabriel Byrne : 2\n",
      " Chazz Palminteri : 3\n",
      " Roberto Benigni : 2\n",
      " Nicoletta Braschi : 1\n",
      " Giorgio Cantarini : 1\n",
      " Charles Bronson : 3\n",
      " Claudia Cardinale : 2\n",
      " Jodie Foster : 4\n",
      " Anthony Hopkins : 6\n",
      " Lawrence A. Bonney : 1\n",
      " Jean Reno : 2\n",
      " Gary Oldman : 5\n",
      " Natalie Portman : 5\n",
      " Charles Chaplin : 5\n",
      " Virginia Cherrill : 1\n",
      " Florence Lee : 1\n",
      " Daveigh Chase : 1\n",
      " Suzanne Pleshette : 2\n",
      " Miyu Irino : 1\n",
      " François Cluzet : 2\n",
      " Omar Sy : 1\n",
      " Anne Le Ny : 1\n",
      " Humphrey Bogart : 7\n",
      " Ingrid Bergman : 3\n",
      " Paul Henreid : 1\n",
      " Miles Teller : 1\n",
      " J.K. Simmons : 1\n",
      " Melissa Benoist : 1\n",
      " Edward Furlong : 2\n",
      " Beverly D'Angelo : 3\n",
      " Paulette Goddard : 2\n",
      " Henry Bergman : 1\n",
      " Matt Damon : 8\n",
      " Tom Sizemore : 2\n",
      " Karen Allen : 2\n",
      " Paul Freeman : 1\n",
      " Grace Kelly : 4\n",
      " Wendell Corey : 1\n",
      " Anthony Perkins : 1\n",
      " Janet Leigh : 3\n",
      " Vera Miles : 3\n",
      " Michael Clarke Duncan : 1\n",
      " David Morse : 2\n",
      " William Holden : 6\n",
      " Gloria Swanson : 1\n",
      " Erich von Stroheim : 1\n",
      " Adrien Brody : 2\n",
      " Thomas Kretschmann : 1\n",
      " Frank Finlay : 1\n",
      " Tom Hardy : 2\n",
      " Russell Crowe : 9\n",
      " Joaquin Phoenix : 4\n",
      " Connie Nielsen : 1\n",
      " Arnold Schwarzenegger : 4\n",
      " Linda Hamilton : 2\n",
      " Guy Pearce : 5\n",
      " Joe Pantoliano : 2\n",
      " Darsheel Safary : 1\n",
      " Aamir Khan : 5\n",
      " Tanay Chheda : 1\n",
      " Peter Sellers : 3\n",
      " George C. Scott : 2\n",
      " Sterling Hayden : 2\n",
      " Philippe Noiret : 1\n",
      " Enzo Cannavale : 1\n",
      " Antonella Attili : 1\n",
      " Martin Sheen : 2\n",
      " Jack Oakie : 1\n",
      " Hugh Jackman : 6\n",
      " Scarlett Johansson : 7\n",
      " Michael J. Fox : 3\n",
      " Christopher Lloyd : 4\n",
      " Lea Thompson : 2\n",
      " Matthew Broderick : 3\n",
      " Jeremy Irons : 3\n",
      " James Earl Jones : 2\n",
      " Ulrich Mühe : 2\n",
      " Martina Gedeck : 1\n",
      " Sebastian Koch : 2\n",
      " Sigourney Weaver : 5\n",
      " Tom Skerritt : 2\n",
      " John Hurt : 2\n",
      " Kirk Douglas : 2\n",
      " Ralph Meeker : 1\n",
      " Adolphe Menjou : 1\n",
      " Jamie Foxx : 4\n",
      " Christoph Waltz : 1\n",
      " Madhavan : 1\n",
      " Mona Singh : 1\n",
      " Tsutomu Tatsumi : 1\n",
      " Ayano Shiraishi : 1\n",
      " Akemi Yamaguchi : 1\n",
      " Shelley Duvall : 1\n",
      " Danny Lloyd : 1\n",
      " Peter Lorre : 1\n",
      " Ellen Widmann : 1\n",
      " Inge Landgut : 1\n",
      " Ben Burtt : 1\n",
      " Elissa Knight : 1\n",
      " Jeff Garlin : 1\n",
      " Tyrone Power : 1\n",
      " Marlene Dietrich : 1\n",
      " Charles Laughton : 1\n",
      " Sunil Dutt : 1\n",
      " Sanjay Dutt : 1\n",
      " Arshad Warsi : 1\n",
      " Annette Bening : 1\n",
      " Thora Birch : 2\n",
      " Jürgen Prochnow : 1\n",
      " Herbert Grönemeyer : 1\n",
      " Klaus Wennemann : 1\n",
      " Yôji Matsuda : 1\n",
      " Yuriko Ishida : 1\n",
      " Yûko Tanaka : 1\n",
      " Audrey Tautou : 2\n",
      " Mathieu Kassovitz : 1\n",
      " Rufus : 1\n",
      " Cary Grant : 8\n",
      " Eva Marie Saint : 1\n",
      " James Mason : 2\n",
      " Soha Ali Khan : 1\n",
      " Siddharth : 1\n",
      " Peyman Moaadi : 1\n",
      " Leila Hatami : 1\n",
      " Sareh Bayat : 1\n",
      " Orson Welles : 3\n",
      " Joseph Cotten : 3\n",
      " Dorothy Comingore : 1\n",
      " Michael Biehn : 3\n",
      " Carrie Henn : 1\n",
      " Kim Novak : 1\n",
      " Barbara Bel Geddes : 1\n",
      " Min-sik Choi : 3\n",
      " Ji-tae Yu : 1\n",
      " Hye-jeong Kang : 1\n",
      " James Woods : 1\n",
      " Elizabeth McGovern : 1\n",
      " Fred MacMurray : 2\n",
      " Barbara Stanwyck : 1\n",
      " Edward G. Robinson : 2\n",
      " Tim Allen : 3\n",
      " Joan Cusack : 2\n",
      " Mel Gibson : 4\n",
      " Sophie Marceau : 1\n",
      " Patrick McGoohan : 2\n",
      " Gregory Peck : 4\n",
      " John Megna : 1\n",
      " Frank Overton : 1\n",
      " Ellen Burstyn : 2\n",
      " Jared Leto : 4\n",
      " Jennifer Connelly : 7\n",
      " Peter O'Toole : 2\n",
      " Alec Guinness : 2\n",
      " Anthony Quinn : 2\n",
      " Malcolm McDowell : 1\n",
      " Patrick Magee : 2\n",
      " Michael Bates : 1\n",
      " Lamberto Maggiorani : 1\n",
      " Enzo Staiola : 1\n",
      " Lianella Carell : 1\n",
      " Edna Purviance : 1\n",
      " Jackie Coogan : 1\n",
      " Shah Rukh Khan : 3\n",
      " Gayatri Joshi : 1\n",
      " Kishori Balal : 1\n",
      " Harvey Keitel : 5\n",
      " Tim Roth : 3\n",
      " Michael Madsen : 3\n",
      " Jim Carrey : 3\n",
      " Kate Winslet : 8\n",
      " Tom Wilkinson : 2\n",
      " Cybill Shepherd : 2\n",
      " Kajol : 2\n",
      " Amrish Puri : 1\n",
      " Gene Kelly : 1\n",
      " Donald O'Connor : 1\n",
      " Debbie Reynolds : 1\n",
      " Bette Davis : 2\n",
      " Anne Baxter : 2\n",
      " George Sanders : 2\n",
      " Eijirô Tôno : 1\n",
      " Tatsuya Nakadai : 2\n",
      " Paul Newman : 5\n",
      " Robert Redford : 5\n",
      " Robert Shaw : 3\n",
      " Machiko Kyô : 1\n",
      " Masayuki Mori : 1\n",
      " F. Murray Abraham : 2\n",
      " Tom Hulce : 2\n",
      " Elizabeth Berridge : 1\n",
      " Walter Huston : 1\n",
      " Tim Holt : 1\n",
      " Graham Chapman : 2\n",
      " John Cleese : 4\n",
      " Eric Idle : 2\n",
      " Matthew Modine : 1\n",
      " R. Lee Ermey : 1\n",
      " Vincent D'Onofrio : 1\n",
      " Jack Lemmon : 4\n",
      " Shirley MacLaine : 3\n",
      " Nobuo Kaneko : 1\n",
      " Shin'ichi Himori : 1\n",
      " Alida Valli : 1\n",
      " Jason Statham : 1\n",
      " Benicio Del Toro : 4\n",
      " Gian Maria Volonté : 2\n",
      " Brigitte Helm : 1\n",
      " Alfred Abel : 1\n",
      " Gustav Fröhlich : 1\n",
      " Saif Ali Khan : 1\n",
      " Akshaye Khanna : 1\n",
      " Keir Dullea : 1\n",
      " Gary Lockwood : 1\n",
      " William Sylvester : 1\n",
      " Marilyn Monroe : 1\n",
      " Tony Curtis : 1\n",
      " Michael Caine : 8\n",
      " Ken Watanabe : 3\n",
      " Diane Kruger : 2\n",
      " Eli Roth : 1\n",
      " Michelle Pfeiffer : 3\n",
      " Steven Bauer : 1\n",
      " Jean Arthur : 2\n",
      " Claude Rains : 2\n",
      " Don Rickles : 2\n",
      " Sean Connery : 9\n",
      " Alison Doody : 1\n",
      " Gene Hackman : 6\n",
      " Steve McQueen : 4\n",
      " James Garner : 2\n",
      " Richard Attenborough : 1\n",
      " Mads Mikkelsen : 3\n",
      " Thomas Bo Larsen : 2\n",
      " Annika Wedderkopp : 1\n",
      " Karl Malden : 2\n",
      " Buster Keaton : 1\n",
      " Marion Mack : 1\n",
      " Glen Cavender : 1\n",
      " Cathy Moriarty : 1\n",
      " Bruno Ganz : 3\n",
      " Alexandra Maria Lara : 1\n",
      " Ulrich Matthes : 1\n",
      " Edward Asner : 1\n",
      " Jordan Nagai : 1\n",
      " John Ratzenberger : 1\n",
      " Victor Sjöström : 1\n",
      " Bibi Andersson : 2\n",
      " Ingrid Thulin : 1\n",
      " Mack Swain : 1\n",
      " Tom Murray : 1\n",
      " Akira Terao : 1\n",
      " Jinpachi Nezu : 1\n",
      " Faye Dunaway : 4\n",
      " John Huston : 1\n",
      " Hitoshi Takagi : 1\n",
      " Noriko Hidaka : 1\n",
      " Chika Sakamoto : 1\n",
      " Spencer Tracy : 3\n",
      " Burt Lancaster : 2\n",
      " Richard Widmark : 1\n",
      " Ranbir Kapoor : 1\n",
      " Priyanka Chopra : 1\n",
      " Ileana : 1\n",
      " Max von Sydow : 2\n",
      " Gunnar Björnstrand : 1\n",
      " Bengt Ekerot : 1\n",
      " Val Kilmer : 3\n",
      " Ivana Baquero : 1\n",
      " Ariadna Gil : 1\n",
      " Sergi López : 1\n",
      " Jack Hawkins : 3\n",
      " Bruce Willis : 8\n",
      " Alan Rickman : 3\n",
      " Bonnie Bedelia : 1\n",
      " Robin Williams : 5\n",
      " Ben Affleck : 4\n",
      " Yves Montand : 1\n",
      " Charles Vanel : 1\n",
      " Peter van Eyck : 1\n",
      " Ricardo Darín : 2\n",
      " Soledad Villamil : 1\n",
      " Pablo Rago : 1\n",
      " Gracy Singh : 1\n",
      " Rachel Shelley : 1\n",
      " Jonah Hill : 3\n",
      " Margot Robbie : 1\n",
      " Clark Gable : 2\n",
      " Claudette Colbert : 1\n",
      " Walter Connolly : 1\n",
      " Rutger Hauer : 1\n",
      " Sean Young : 1\n",
      " Nick Nolte : 2\n",
      " Joel Edgerton : 2\n",
      " Chieko Baishô : 1\n",
      " Takuya Kimura : 1\n",
      " Tatsuya Gashûin : 1\n",
      " Anne Bancroft : 2\n",
      " Laurence Olivier : 4\n",
      " Joan Fontaine : 1\n",
      " Lubna Azabal : 1\n",
      " Mélissa Désormeaux-Poulin : 1\n",
      " Maxim Gaudette : 1\n",
      " Jason Flemyng : 1\n",
      " Dexter Fletcher : 1\n",
      " Nick Moran : 1\n",
      " Hugo Weaving : 2\n",
      " Rupert Graves : 1\n",
      " Jeff Bridges : 4\n",
      " John Goodman : 6\n",
      " Julianne Moore : 10\n",
      " George Kennedy : 1\n",
      " Strother Martin : 1\n",
      " Darío Grandinetti : 2\n",
      " María Marull : 1\n",
      " Mónica Villa : 1\n",
      " Sharon Stone : 2\n",
      " Vivien Leigh : 2\n",
      " Thomas Mitchell : 2\n",
      " Rosamund Pike : 1\n",
      " Neil Patrick Harris : 1\n",
      " Fredric March : 1\n",
      " Dana Andrews : 2\n",
      " Myrna Loy : 1\n",
      " Jay Baruchel : 2\n",
      " Gerard Butler : 4\n",
      " Christopher Mintz-Plasse : 2\n",
      " Simone Signoret : 1\n",
      " Véra Clouzot : 1\n",
      " Paul Meurisse : 1\n",
      " Bee Vang : 1\n",
      " Christopher Carley : 1\n",
      " Daniel Brühl : 2\n",
      " Chris Hemsworth : 1\n",
      " Olivia Wilde : 1\n",
      " Emile Hirsch : 3\n",
      " Vince Vaughn : 1\n",
      " Catherine Keener : 3\n",
      " Tae-hyun Cha : 1\n",
      " Gianna Jun : 1\n",
      " In-mun Kim : 1\n",
      " Christopher Walken : 3\n",
      " John Cazale : 3\n",
      " Toni Collette : 4\n",
      " Philip Seymour Hoffman : 5\n",
      " Eric Bana : 2\n",
      " Richard Gere : 3\n",
      " Joan Allen : 5\n",
      " Cary-Hiroyuki Tagawa : 1\n",
      " Mary Astor : 1\n",
      " Gladys George : 1\n",
      " Ed Harris : 9\n",
      " Ray Milland : 1\n",
      " Robert Cummings : 1\n",
      " Ewan McGregor : 6\n",
      " Ewen Bremner : 2\n",
      " Jonny Lee Miller : 1\n",
      " Dong-gun Jang : 1\n",
      " Bin Won : 2\n",
      " Eun-ju Lee : 1\n",
      " Liv Ullmann : 1\n",
      " Margaretha Krook : 1\n",
      " Charlton Heston : 4\n",
      " William H. Macy : 1\n",
      " Frances McDormand : 5\n",
      " Steve Buscemi : 2\n",
      " Robert Downey Jr. : 8\n",
      " Chris Evans : 2\n",
      " Jean-Pierre Léaud : 1\n",
      " Albert Rémy : 1\n",
      " Claire Maurier : 1\n",
      " Cary Elwes : 3\n",
      " Mandy Patinkin : 1\n",
      " Don Cheadle : 3\n",
      " Sophie Okonedo : 1\n",
      " Alisa Freyndlikh : 1\n",
      " Aleksandr Kaydanovskiy : 1\n",
      " Anatoliy Solonitsyn : 1\n",
      " Brahim Hadjadj : 1\n",
      " Jean Martin : 1\n",
      " Yacef Saadi : 1\n",
      " Predrag Manojlovic : 1\n",
      " Lazar Ristovski : 1\n",
      " Mirjana Jokovic : 1\n",
      " Bertil Guve : 1\n",
      " Pernilla Allwin : 1\n",
      " Kristina Adolphson : 1\n",
      " Peter Finch : 1\n",
      " Kurt Russell : 4\n",
      " Wilford Brimley : 1\n",
      " Keith David : 1\n",
      " Katharine Ross : 2\n",
      " Jane Darwell : 1\n",
      " John Carradine : 1\n",
      " Bajram Severdzan : 1\n",
      " Srdjan Todorovic : 1\n",
      " Branka Katic : 1\n",
      " Michael Palin : 1\n",
      " Haley Joel Osment : 2\n",
      " Albert Brooks : 1\n",
      " Ellen DeGeneres : 1\n",
      " Alexander Gould : 1\n",
      " Sumi Shimamoto : 1\n",
      " Mahito Tsujimura : 1\n",
      " Hisako Kyôda : 1\n",
      " Colin Firth : 3\n",
      " Taron Egerton : 1\n",
      " Charlie Sheen : 2\n",
      " Tom Berenger : 1\n",
      " Willem Dafoe : 5\n",
      " Chris Pratt : 3\n",
      " Vin Diesel : 2\n",
      " Bradley Cooper : 4\n",
      " Daniel Day-Lewis : 6\n",
      " Pete Postlethwaite : 1\n",
      " Alison Crosbie : 1\n",
      " David Carradine : 2\n",
      " Daryl Hannah : 1\n",
      " Tommy Lee Jones : 3\n",
      " Javier Bardem : 4\n",
      " Josh Brolin : 3\n",
      " Alain Delon : 1\n",
      " Nathalie Delon : 1\n",
      " François Périer : 1\n",
      " Chiwetel Ejiofor : 4\n",
      " Michael Kenneth Williams : 1\n",
      " Michael Fassbender : 2\n",
      " Pruitt Taylor Vince : 1\n",
      " Bill Nunn : 1\n",
      " Marcello Mastroianni : 2\n",
      " Anouk Aimée : 2\n",
      " Stephen Boyd : 1\n",
      " Emilio Echevarría : 1\n",
      " Gael García Bernal : 5\n",
      " Goya Toledo : 1\n",
      " Wil Wheaton : 1\n",
      " River Phoenix : 1\n",
      " Corey Feldman : 1\n",
      " Joan Crawford : 1\n",
      " Victor Buono : 1\n",
      " Woody Allen : 6\n",
      " Diane Keaton : 4\n",
      " Tony Roberts : 1\n",
      " Benedict Cumberbatch : 1\n",
      " Keira Knightley : 4\n",
      " Matthew Goode : 2\n",
      " Gene Tierney : 1\n",
      " Clifton Webb : 1\n",
      " Masahiro Motoki : 1\n",
      " Ryôko Hirosue : 1\n",
      " Tsutomu Yamazaki : 1\n",
      " Andy Lau : 2\n",
      " Tony Chiu Wai Leung : 7\n",
      " Anthony Chau-Sang Wong : 1\n",
      " Paul Dano : 1\n",
      " Ciarán Hinds : 2\n",
      " Mathieu Amalric : 2\n",
      " Giulietta Masina : 1\n",
      " Richard Basehart : 1\n",
      " Mickey Rourke : 2\n",
      " Clive Owen : 3\n",
      " Kang-ho Song : 2\n",
      " Sang-kyung Kim : 1\n",
      " Roe-ha Kim : 1\n",
      " Jake Gyllenhaal : 8\n",
      " Jena Malone : 1\n",
      " Mary McDonnell : 2\n",
      " Elizabeth Taylor : 2\n",
      " Richard Burton : 3\n",
      " George Segal : 1\n",
      " John Gielgud : 1\n",
      " Candice Bergen : 1\n",
      " Natalya Bondarchuk : 1\n",
      " Donatas Banionis : 1\n",
      " Jüri Järvet : 1\n",
      " Daniel Radcliffe : 7\n",
      " Emma Watson : 7\n",
      " Rupert Grint : 7\n",
      " Harry Dean Stanton : 1\n",
      " Nastassja Kinski : 1\n",
      " Dean Stockwell : 1\n",
      " Judy Garland : 1\n",
      " Frank Morgan : 1\n",
      " Ray Bolger : 1\n",
      " Seung-yeon Lee : 1\n",
      " Hyun-kyoon Lee : 1\n",
      " Hyuk-ho Kwon : 1\n",
      " Ellar Coltrane : 1\n",
      " Patricia Arquette : 3\n",
      " Ethan Hawke : 9\n",
      " Hilary Swank : 3\n",
      " Timothy Bottoms : 1\n",
      " Farley Granger : 2\n",
      " Robert Walker : 1\n",
      " Ruth Roman : 1\n",
      " Burl Ives : 1\n",
      " Anita Ekberg : 1\n",
      " Brigitte Lin : 1\n",
      " Takeshi Kaneshiro : 2\n",
      " Robert Mitchum : 1\n",
      " Shelley Winters : 2\n",
      " Lillian Gish : 1\n",
      " Vincent Cassel : 2\n",
      " Hubert Koundé : 2\n",
      " Saïd Taghmaoui : 1\n",
      " Donnie Yen : 2\n",
      " Simon Yam : 1\n",
      " Siu-Wong Fan : 1\n",
      " Gary Cooper : 1\n",
      " Julie Delpy : 5\n",
      " Andrea Eckert : 1\n",
      " Wagner Moura : 2\n",
      " Irandhir Santos : 1\n",
      " André Ramiro : 2\n",
      " Édgar Ramírez : 1\n",
      " Anna Paquin : 1\n",
      " James Van Der Beek : 1\n",
      " Cloris Leachman : 1\n",
      " Ulrich Thomsen : 2\n",
      " Henning Moritzen : 1\n",
      " Ki-duk Kim : 1\n",
      " Yeong-su Oh : 1\n",
      " Jong-ho Kim : 1\n",
      " Emily Mortimer : 2\n",
      " Mark Ruffalo : 3\n",
      " Ryan O'Neal : 2\n",
      " Marisa Berenson : 1\n",
      " Don Taylor : 1\n",
      " Otto Preminger : 1\n",
      " Irène Jacob : 1\n",
      " Jean-Louis Trintignant : 2\n",
      " Frédérique Feder : 1\n",
      " Patrick Stewart : 4\n",
      " Alec Cawthorne : 1\n",
      " Maggie Cheung : 2\n",
      " Ping Lam Siu : 1\n",
      " John Wayne : 6\n",
      " Priscilla Lane : 1\n",
      " Raymond Massey : 2\n",
      " Lauren Bacall : 3\n",
      " John Ridgely : 1\n",
      " Audrey Hepburn : 5\n",
      " Eddie Albert : 1\n",
      " Katharine Hepburn : 4\n",
      " Nozomu Sasaki : 1\n",
      " Mami Koyama : 1\n",
      " Mitsuo Iwata : 1\n",
      " Lee Remick : 2\n",
      " Ben Gazzara : 2\n",
      " Werner Krauss : 1\n",
      " Conrad Veidt : 1\n",
      " Friedrich Feher : 1\n",
      " Emma Stone : 2\n",
      " Viola Davis : 2\n",
      " Octavia Spencer : 2\n",
      " Belén Rueda : 2\n",
      " Lola Dueñas : 2\n",
      " Caio Junqueira : 1\n",
      " Jackie Gleason : 1\n",
      " Piper Laurie : 1\n",
      " Dean Martin : 1\n",
      " Ricky Nelson : 1\n",
      " Madeleine Stowe : 2\n",
      " Josephine Hull : 1\n",
      " Peggy Dow : 1\n",
      " Peter Billingsley : 1\n",
      " Melinda Dillon : 1\n",
      " Darren McGavin : 1\n",
      " Roy Scheider : 3\n",
      " Richard Dreyfuss : 3\n",
      " Iko Uwais : 2\n",
      " Yayan Ruhian : 1\n",
      " Arifin Putra : 1\n",
      " Sylvester Stallone : 2\n",
      " Talia Shire : 1\n",
      " Burt Young : 1\n",
      " Solveig Dommartin : 1\n",
      " Otto Sander : 1\n",
      " Johnny Depp : 12\n",
      " Geoffrey Rush : 7\n",
      " Coleen Gray : 1\n",
      " Vince Edwards : 1\n",
      " Dustin Hoffman : 11\n",
      " Victor Jory : 1\n",
      " Bill Murray : 5\n",
      " Andie MacDowell : 2\n",
      " Chris Elliott : 1\n",
      " Marianne Koch : 1\n",
      " Billy Crystal : 2\n",
      " Mary Gibbs : 1\n",
      " Penelope Allen : 1\n",
      " Logan Lerman : 2\n",
      " Ezra Miller : 2\n",
      " Gene Wilder : 4\n",
      " Madeline Kahn : 1\n",
      " Marty Feldman : 1\n",
      " Ruth Gordon : 2\n",
      " Bud Cort : 1\n",
      " Vivian Pickles : 1\n",
      " Vernon Dobtcheff : 1\n",
      " Kim Hunter : 2\n",
      " Charles Ruggles : 1\n",
      " Emmanuelle Seigner : 1\n",
      " Marie-Josée Croze : 3\n",
      " Rosalind Russell : 1\n",
      " Ralph Bellamy : 2\n",
      " Billy Bob Thornton : 3\n",
      " Dwight Yoakam : 2\n",
      " J.T. Walsh : 1\n",
      " Lew Ayres : 1\n",
      " Louis Wolheim : 1\n",
      " John Wray : 1\n",
      " Vladimir Garin : 1\n",
      " Ivan Dobronravov : 1\n",
      " Konstantin Lavronenko : 1\n",
      " Frank Sinatra : 1\n",
      " Laurence Harvey : 1\n",
      " Groucho Marx : 1\n",
      " Harpo Marx : 1\n",
      " Chico Marx : 1\n",
      " Paige O'Hara : 1\n",
      " Robby Benson : 1\n",
      " Richard White : 1\n",
      " Laura Linney : 3\n",
      " Ernest Borgnine : 2\n",
      " Robert Ryan : 2\n",
      " John Dall : 1\n",
      " Sam Neill : 2\n",
      " Laura Dern : 3\n",
      " Jeff Goldblum : 2\n",
      " Nicole Kidman : 4\n",
      " Paul Bettany : 2\n",
      " Paul Walker : 2\n",
      " Dwayne Johnson : 1\n",
      " Stephen Young : 1\n",
      " Danny Elfman : 1\n",
      " Chris Sarandon : 1\n",
      " Catherine O'Hara : 2\n",
      " Melvyn Douglas : 1\n",
      " Chiara Mastroianni : 1\n",
      " Catherine Deneuve : 4\n",
      " Gena Rowlands : 3\n",
      " Rob Reiner : 1\n",
      " Michael McKean : 1\n",
      " Christopher Guest : 1\n",
      " James Dean : 2\n",
      " Julie Harris : 1\n",
      " Bob Geldof : 1\n",
      " Christine Hargreaves : 1\n",
      " James Laurenson : 1\n",
      " Djimon Hounsou : 2\n",
      " Albert Finney : 2\n",
      " Billy Crudup : 2\n",
      " Dev Patel : 1\n",
      " Freida Pinto : 2\n",
      " Saurabh Shukla : 1\n",
      " Chris Pine : 2\n",
      " Zachary Quinto : 2\n",
      " Simon Pegg : 3\n",
      " Richard Farnsworth : 2\n",
      " Sissy Spacek : 3\n",
      " Jane Galloway Heitz : 1\n",
      " Martin Landau : 2\n",
      " Bill Bernstein : 1\n",
      " Walter Matthau : 1\n",
      " Kevin Costner : 6\n",
      " David Emge : 1\n",
      " Ken Foree : 1\n",
      " Scott H. Reiniger : 1\n",
      " Tom Cruise : 8\n",
      " Jason Robards : 1\n",
      " Mariel Hemingway : 1\n",
      " Fernanda Montenegro : 1\n",
      " Vinícius de Oliveira : 1\n",
      " Marília Pêra : 1\n",
      " Jonathan Pryce : 1\n",
      " Kim Greist : 1\n",
      " Linda Blair : 1\n",
      " Amy Adams : 3\n",
      " Björk : 1\n",
      " Valeria Golino : 1\n",
      " Rosario Flores : 1\n",
      " Javier Cámara : 2\n",
      " Errol Flynn : 1\n",
      " Olivia de Havilland : 1\n",
      " Basil Rathbone : 1\n",
      " Klaus Kinski : 1\n",
      " Ruy Guerra : 1\n",
      " Helena Rojo : 1\n",
      " Sidney Poitier : 2\n",
      " Rod Steiger : 1\n",
      " Warren Oates : 2\n",
      " Max Schreck : 1\n",
      " Greta Schröder : 1\n",
      " Ruth Landshoff : 1\n",
      " Mila Kunis : 1\n",
      " Brad Garrett : 1\n",
      " Lou Romano : 1\n",
      " Patton Oswalt : 1\n",
      " Jeffrey Hunter : 1\n",
      " Brie Larson : 1\n",
      " Frantz Turner : 1\n",
      " John Gallagher Jr. : 1\n",
      " Omar Sharif : 1\n",
      " Julie Christie : 3\n",
      " Geraldine Chaplin : 2\n",
      " Suraj Sharma : 1\n",
      " Irrfan Khan : 1\n",
      " Adil Hussain : 1\n",
      " Jack Warden : 1\n",
      " Aleksandr Antonov : 1\n",
      " Vladimir Barsky : 1\n",
      " Grigori Aleksandrov : 1\n",
      " Graham Greene : 1\n",
      " Renée Zellweger : 1\n",
      " Craig Bierko : 1\n",
      " Robert Sean Leonard : 1\n",
      " Atsuko Tanaka : 1\n",
      " Iemasa Kayumi : 1\n",
      " Akio Ôtsuka : 1\n",
      " Birol Ünel : 1\n",
      " Sibel Kekilli : 1\n",
      " Güven Kiraç : 1\n",
      " Branko Djuric : 1\n",
      " Rene Bitorajac : 1\n",
      " Filip Sovagovic : 1\n",
      " Jennifer Garner : 2\n",
      " Brooke Adams : 1\n",
      " Sam Shepard : 3\n",
      " Julie Andrews : 2\n",
      " Christopher Plummer : 4\n",
      " Eleanor Parker : 1\n",
      " Sharlto Copley : 1\n",
      " David James : 1\n",
      " Jason Cope : 1\n",
      " Teresa Wright : 1\n",
      " Macdonald Carey : 1\n",
      " Colin Clive : 2\n",
      " Mae Clarke : 1\n",
      " Boris Karloff : 2\n",
      " Nick Frost : 3\n",
      " Kate Ashfield : 1\n",
      " Duane Jones : 1\n",
      " Judith O'Dea : 1\n",
      " Karl Hardman : 1\n",
      " Timothy Spall : 1\n",
      " Brenda Blethyn : 3\n",
      " Phyllis Logan : 1\n",
      " Jean Dujardin : 1\n",
      " Bérénice Bejo : 2\n",
      " Scott Weinger : 1\n",
      " Linda Larkin : 1\n",
      " Margaret Lockwood : 1\n",
      " Michael Redgrave : 1\n",
      " Paul Lukas : 1\n",
      " Martin Freeman : 4\n",
      " Richard Armitage : 3\n",
      " Kåre Hedebrant : 1\n",
      " Lina Leandersson : 1\n",
      " Per Ragnar : 1\n",
      " Topol : 1\n",
      " Norma Crane : 1\n",
      " Leonard Frey : 1\n",
      " Juliette Binoche : 2\n",
      " Zbigniew Zamachowski : 2\n",
      " Mia Farrow : 4\n",
      " John Cassavetes : 1\n",
      " Sean Penn : 8\n",
      " Kevin Bacon : 4\n",
      " Nathan Fillion : 1\n",
      " Gina Torres : 1\n",
      " Magali Noël : 1\n",
      " Bruno Zanin : 1\n",
      " Pupella Maggio : 1\n",
      " Roddy McDowall : 1\n",
      " Christian Slater : 2\n",
      " Dennis Hopper : 3\n",
      " Dianne Wiest : 3\n",
      " Sam Rockwell : 1\n",
      " Dominique McElligott : 1\n",
      " Seamus Davey-Fitzpatrick : 1\n",
      " Sheetal Menon : 1\n",
      " Chris O'Donnell : 1\n",
      " James Rebhorn : 1\n",
      " Naomi Watts : 5\n",
      " Laura Harring : 1\n",
      " Justin Theroux : 2\n",
      " Fay Wray : 1\n",
      " Robert Armstrong : 1\n",
      " Bruce Cabot : 1\n",
      " Shailene Woodley : 1\n",
      " Ansel Elgort : 1\n",
      " Nat Wolff : 1\n",
      " Craig T. Nelson : 2\n",
      " Holly Hunter : 3\n",
      " Winona Ryder : 3\n",
      " Daniel Craig : 4\n",
      " Eva Green : 1\n",
      " Judi Dench : 3\n",
      " Cate Blanchett : 7\n",
      " Colin Farrell : 2\n",
      " Brendan Gleeson : 2\n",
      " Jean-Paul Belmondo : 1\n",
      " Jean Seberg : 1\n",
      " Daniel Boulanger : 1\n",
      " Jean Simmons : 1\n",
      " Eli Marienthal : 1\n",
      " Harry Connick Jr. : 1\n",
      " Jennifer Aniston : 2\n",
      " Jon Voight : 2\n",
      " Sylvia Miles : 1\n",
      " John Belushi : 2\n",
      " Dan Aykroyd : 4\n",
      " Cab Calloway : 1\n",
      " Wallace Ford : 1\n",
      " Leila Hyams : 1\n",
      " Olga Baclanova : 1\n",
      " Kazunari Ninomiya : 1\n",
      " Tsuyoshi Ihara : 1\n",
      " Emily Blunt : 2\n",
      " Bill Paxton : 4\n",
      " Denzel Washington : 10\n",
      " Robert Morley : 1\n",
      " Michael Keaton : 3\n",
      " Zach Galifianakis : 2\n",
      " Ryan Potter : 1\n",
      " Scott Adsit : 1\n",
      " Jamie Chung : 1\n",
      " Patrick Fugit : 1\n",
      " Kate Hudson : 1\n",
      " Rachel McAdams : 4\n",
      " Allen Garfield : 1\n",
      " Emilio Estevez : 1\n",
      " Judd Nelson : 1\n",
      " Molly Ringwald : 1\n",
      " Will Smith : 2\n",
      " Thandie Newton : 2\n",
      " Jaden Smith : 1\n",
      " Yun-Fat Chow : 3\n",
      " Danny Lee : 1\n",
      " Sally Yeh : 1\n",
      " Glen Hansard : 1\n",
      " Markéta Irglová : 1\n",
      " Hugh Walsh : 1\n",
      " Jet Li : 2\n",
      " Emma Thompson : 5\n",
      " John Haycraft : 1\n",
      " Elsa Lanchester : 1\n",
      " Marisa Tomei : 2\n",
      " Evan Rachel Wood : 2\n",
      " Rene Russo : 1\n",
      " Sandra Bullock : 3\n",
      " George Clooney : 6\n",
      " Teresa Mo : 1\n",
      " Warren Beatty : 1\n",
      " Michael J. Pollard : 1\n",
      " Franka Potente : 4\n",
      " Chris Cooper : 3\n",
      " Gastón Pauls : 1\n",
      " Leticia Brédice : 1\n",
      " Sam Waterston : 1\n",
      " Haing S. Ngor : 1\n",
      " John Malkovich : 4\n",
      " Cecilia Roth : 1\n",
      " Marisa Paredes : 2\n",
      " Candela Peña : 1\n",
      " Beau Billingslea : 1\n",
      " Melissa Fahn : 1\n",
      " Nicholas Guest : 1\n",
      " Sarah Jessica Parker : 1\n",
      " Claire Trevor : 1\n",
      " Andy Devine : 1\n",
      " Sondra Locke : 1\n",
      " Chief Dan George : 1\n",
      " Scott Glenn : 3\n",
      " Tahar Rahim : 2\n",
      " Niels Arestrup : 1\n",
      " Adel Bencherif : 1\n",
      " Anamaria Marinca : 1\n",
      " Vlad Ivanov : 1\n",
      " Laura Vasiliu : 1\n",
      " Ali Mosaffa : 1\n",
      " Lee Pace : 1\n",
      " Catinca Untaru : 1\n",
      " Justine Waddell : 1\n",
      " Emily Watson : 4\n",
      " Stellan Skarsgård : 1\n",
      " Katrin Cartlidge : 1\n",
      " Sarah Polley : 1\n",
      " Sam Worthington : 1\n",
      " Zoe Saldana : 2\n",
      " Gwyneth Paltrow : 2\n",
      " Terrence Howard : 1\n",
      " Danny Aiello : 3\n",
      " Ossie Davis : 1\n",
      " Ruby Dee : 1\n",
      " Penelope Ann Miller : 1\n",
      " Michelle Yeoh : 1\n",
      " Ziyi Zhang : 3\n",
      " Oksana Akinshina : 1\n",
      " Artyom Bogucharskiy : 1\n",
      " Pavel Ponomaryov : 1\n",
      " Gérard Jugnot : 1\n",
      " François Berléand : 1\n",
      " Jean-Baptiste Maunier : 1\n",
      " Sean Patrick Flanery : 1\n",
      " Norman Reedus : 1\n",
      " John Turturro : 4\n",
      " Reese Witherspoon : 1\n",
      " Ginnifer Goodwin : 1\n",
      " Mike Myers : 1\n",
      " Eddie Murphy : 3\n",
      " Cameron Diaz : 4\n",
      " Rex Harrison : 1\n",
      " Stanley Holloway : 1\n",
      " Yul Brynner : 2\n",
      " Mark Wahlberg : 3\n",
      " Barkhad Abdi : 1\n",
      " Barkhad Abdirahman : 1\n",
      " Liza Minnelli : 1\n",
      " Michael York : 1\n",
      " Helmut Griem : 1\n",
      " Donald Pleasence : 1\n",
      " Jamie Lee Curtis : 2\n",
      " Tony Moran : 1\n",
      " Brenda Fricker : 1\n",
      " Alison Whelan : 1\n",
      " Edmund Gwenn : 1\n",
      " Maureen O'Hara : 1\n",
      " John Payne : 1\n",
      " Sae-ron Kim : 1\n",
      " Tae-hoon Kim : 1\n",
      " Riisa Naka : 1\n",
      " Takuya Ishida : 1\n",
      " Mitsutaka Itakura : 1\n",
      " Steve Carell : 5\n",
      " Greg Kinnear : 2\n",
      " Maggie Grace : 1\n",
      " Famke Janssen : 1\n",
      " Léa Seydoux : 1\n",
      " Adèle Exarchopoulos : 1\n",
      " Salim Kechiouche : 1\n",
      " Burt Reynolds : 2\n",
      " Alan Ruck : 1\n",
      " Mia Sara : 1\n",
      " Diane Ladd : 1\n",
      " Iain Rea : 1\n",
      " Kirsten Dunst : 1\n",
      " Minami Takayama : 1\n",
      " Rei Sakuma : 1\n",
      " Tom Waits : 1\n",
      " John Lurie : 1\n",
      " Alec Baldwin : 5\n",
      " Brian O'Halloran : 2\n",
      " Jeff Anderson : 2\n",
      " Marilyn Ghigliotti : 1\n",
      " Nicolas Bro : 1\n",
      " Rooney Mara : 1\n",
      " Robert Donat : 1\n",
      " Madeleine Carroll : 1\n",
      " Lucie Mannheim : 1\n",
      " Henry Thomas : 1\n",
      " Drew Barrymore : 1\n",
      " Peter Coyote : 1\n",
      " Sam Elliott : 1\n",
      " Carl Weathers : 1\n",
      " Kevin Peter Hall : 1\n",
      " Mandy Moore : 1\n",
      " Zachary Levi : 1\n",
      " Donna Murphy : 1\n",
      " Donald Sutherland : 2\n",
      " Mary Tyler Moore : 1\n",
      " Judd Hirsch : 1\n",
      " Jim Sturgess : 2\n",
      " Sylvia Hoeks : 1\n",
      " Jennifer Lawrence : 3\n",
      " Kenneth Branagh : 2\n",
      " Derek Jacobi : 1\n",
      " Emmanuelle Riva : 1\n",
      " Isabelle Huppert : 1\n",
      " Byung-hun Lee : 1\n",
      " In-seo Kim : 1\n",
      " Rodrigo De la Serna : 1\n",
      " Mía Maestro : 1\n",
      " Ron Livingston : 2\n",
      " David Herman : 1\n",
      " Andreas Wilson : 1\n",
      " Henrik Lundström : 1\n",
      " Gustaf Skarsgård : 1\n",
      " Michael Nyqvist : 1\n",
      " Noomi Rapace : 1\n",
      " Ewa Fröling : 1\n",
      " Richard E. Grant : 1\n",
      " Paul McGann : 1\n",
      " Richard Griffiths : 1\n",
      " Michael Rennie : 1\n",
      " Patricia Neal : 2\n",
      " Hugh Marlowe : 1\n",
      " Carice van Houten : 1\n",
      " Thom Hoffman : 1\n",
      " Bruce Campbell : 3\n",
      " Sarah Berry : 1\n",
      " Dan Hicks : 1\n",
      " Hideaki Anno : 1\n",
      " Hidetoshi Nishijima : 1\n",
      " Miori Takimoto : 1\n",
      " Michèle Caucheteux : 1\n",
      " Jean-Claude Donda : 2\n",
      " Michel Robin : 1\n",
      " Eduardo Noriega : 2\n",
      " Penélope Cruz : 3\n",
      " Chete Lera : 1\n",
      " Ryan Gosling : 3\n",
      " Carey Mulligan : 2\n",
      " Bryan Cranston : 2\n",
      " Will Ferrell : 2\n",
      " Elizabeth Banks : 1\n",
      " Edward Fox : 1\n",
      " Terence Alexander : 1\n",
      " Michel Auclair : 1\n",
      " Kathy Bates : 3\n",
      " Jack Albertson : 1\n",
      " Peter Ostrum : 1\n",
      " Leopold Stokowski : 1\n",
      " Deems Taylor : 1\n",
      " Corey Burton : 1\n",
      " Jude Law : 4\n",
      " Shûichirô Moriyama : 1\n",
      " Tokiko Katô : 1\n",
      " Sanshi Katsura : 1\n",
      " Fernando Rey : 1\n",
      " Asa Butterfield : 2\n",
      " David Thewlis : 1\n",
      " Rupert Friend : 1\n",
      " Miranda Richardson : 2\n",
      " Domhnall Gleeson : 1\n",
      " Bill Nighy : 2\n",
      " Isabella Rossellini : 1\n",
      " Kyle MacLachlan : 1\n",
      " Paddy Considine : 1\n",
      " Samantha Morton : 3\n",
      " Tilda Swinton : 2\n",
      " Russell Means : 1\n",
      " Jared Gilman : 1\n",
      " Kara Hayward : 1\n",
      " Natalie Wood : 2\n",
      " Sal Mineo : 1\n",
      " Meryl Streep : 7\n",
      " Kevin McCarthy : 1\n",
      " Dana Wynter : 1\n",
      " Larry Gates : 1\n",
      " Andrew Robinson : 1\n",
      " Harry Guardino : 1\n",
      " John C. Reilly : 2\n",
      " Jack McBrayer : 1\n",
      " Jane Lynch : 1\n",
      " Justin Bartha : 1\n",
      " Jean Sorel : 1\n",
      " Michel Piccoli : 1\n",
      " Tim Blake Nelson : 1\n",
      " Ian Hendry : 1\n",
      " John Fraser : 1\n",
      " Robert Hays : 1\n",
      " Julie Hagerty : 1\n",
      " Leslie Nielsen : 3\n",
      " Matthew Macfadyen : 2\n",
      " Stanley Baker : 1\n",
      " Ulla Jacobsson : 1\n",
      " Lisanne Falk : 1\n",
      " Montgomery Clift : 1\n",
      " Deborah Kerr : 1\n",
      " Gerardo Taracena : 1\n",
      " Raoul Trujillo : 1\n",
      " Dalia Hernández : 1\n",
      " James McAvoy : 3\n",
      " Lee Marvin : 1\n",
      " Moritz Bleibtreu : 2\n",
      " Herbert Knaup : 1\n",
      " Patrick Horgan : 1\n",
      " John Lone : 1\n",
      " Joan Chen : 2\n",
      " Sean Astin : 2\n",
      " Jeff Cohen : 1\n",
      " Christian Friedel : 1\n",
      " Ernst Jacobi : 1\n",
      " Leonie Benesch : 1\n",
      " Sela Ward : 1\n",
      " Danny Glover : 3\n",
      " Whoopi Goldberg : 1\n",
      " Oprah Winfrey : 1\n",
      " Trey Parker : 1\n",
      " Matt Stone : 1\n",
      " Mary Kay Bergman : 1\n",
      " Zooey Deschanel : 1\n",
      " Geoffrey Arend : 1\n",
      " Giovanni Ribisi : 1\n",
      " Cleavon Little : 1\n",
      " Slim Pickens : 1\n",
      " George Peppard : 1\n",
      " Christian Berkel : 1\n",
      " Oliver Stokowski : 1\n",
      " Josh Hartnett : 2\n",
      " Eddie Redmayne : 1\n",
      " Felicity Jones : 1\n",
      " Tom Prior : 1\n",
      " Stephen Chow : 1\n",
      " Wah Yuen : 1\n",
      " Qiu Yuen : 1\n",
      " John Cusack : 4\n",
      " Jesse Eisenberg : 2\n",
      " Andrew Garfield : 2\n",
      " Justin Timberlake : 1\n",
      " Ben Foster : 1\n",
      " Helmut Qualtinger : 1\n",
      " Dick Van Dyke : 1\n",
      " David Tomlinson : 1\n",
      " Michael Douglas : 5\n",
      " Deborah Kara Unger : 2\n",
      " Angelina Jolie : 2\n",
      " Colm Feore : 1\n",
      " Amy Ryan : 1\n",
      " John Randolph : 1\n",
      " Jack Kehoe : 1\n",
      " Juliette Lewis : 2\n",
      " Gert Fröbe : 1\n",
      " Honor Blackman : 1\n",
      " Bruce Dern : 1\n",
      " Will Forte : 1\n",
      " June Squibb : 1\n",
      " Tom Guiry : 1\n",
      " Mike Vitar : 1\n",
      " Patrick Renna : 1\n",
      " Cuba Gooding Jr. : 1\n",
      " Hudhail Al-Amir : 1\n",
      " Naomie Harris : 2\n",
      " Regina King : 1\n",
      " Kerry Washington : 1\n",
      " Lena Headey : 1\n",
      " David Wenham : 1\n",
      " Lillo Brancato : 1\n",
      " Rod Taylor : 1\n",
      " Tippi Hedren : 1\n",
      " Tatsuya Fujiwara : 1\n",
      " Aki Maeda : 1\n",
      " Tarô Yamamoto : 1\n",
      " Sam Riley : 1\n",
      " Craig Parkinson : 1\n",
      " Jane Alexander : 1\n",
      " Ned Beatty : 2\n",
      " Julia Roberts : 1\n",
      " Helen Hunt : 2\n",
      " Julie Kavner : 2\n",
      " Jerry Lewis : 1\n",
      " Diahnne Abbott : 1\n",
      " Dakota Fanning : 3\n",
      " Rufus Sewell : 1\n",
      " Kiefer Sutherland : 1\n",
      " Katrin Saß : 1\n",
      " Chulpan Khamatova : 1\n",
      " Will Patton : 1\n",
      " Wood Harris : 1\n",
      " William Shatner : 1\n",
      " Leonard Nimoy : 1\n",
      " DeForest Kelley : 1\n",
      " Tyler Hoechlin : 1\n",
      " Rob Maxey : 1\n",
      " Jason Schwartzman : 1\n",
      " Olivia Williams : 1\n",
      " Jennifer Jason Leigh : 1\n",
      " Aitana Sánchez-Gijón : 1\n",
      " Madeline Carroll : 1\n",
      " Callan McAuliffe : 1\n",
      " Rebecca De Mornay : 1\n",
      " Jim Caviezel : 2\n",
      " Richard Harris : 2\n",
      " Christina Hendricks : 1\n",
      " Marcia Gay Harden : 1\n",
      " Guillaume Canet : 1\n",
      " Marion Cotillard : 3\n",
      " Thibault Verhaeghe : 1\n",
      " Gary Farmer : 1\n",
      " Crispin Glover : 1\n",
      " Jeff Daniels : 2\n",
      " Seth Rogen : 1\n",
      " Anna Kendrick : 3\n",
      " Aaron Taylor-Johnson : 1\n",
      " Nicolas Cage : 6\n",
      " Chloë Grace Moretz : 2\n",
      " Marie-Laure Dougnac : 1\n",
      " Dominique Pinon : 1\n",
      " Pascal Benezech : 1\n",
      " Judy Davis : 2\n",
      " Forest Whitaker : 3\n",
      " Gillian Anderson : 1\n",
      " Gaspard Ulliel : 1\n",
      " Brady Corbet : 1\n",
      " Elisabeth Shue : 2\n",
      " Charlie Cox : 1\n",
      " Claire Danes : 1\n",
      " Sienna Miller : 1\n",
      " Megumi Hayashibara : 1\n",
      " Tôru Emori : 1\n",
      " Katsunosuke Hori : 1\n",
      " Tobey Maguire : 4\n",
      " Frank Langella : 1\n",
      " Michael Sheen : 1\n",
      " Bruce Lee : 1\n",
      " John Saxon : 1\n",
      " Jim Kelly : 1\n",
      " John Lennon : 1\n",
      " Paul McCartney : 1\n",
      " George Harrison : 1\n",
      " Billy Connolly : 1\n",
      " Peter Dinklage : 2\n",
      " Patricia Clarkson : 3\n",
      " Bobby Cannavale : 1\n",
      " Woody Harrelson : 2\n",
      " Ha-kyun Shin : 1\n",
      " Doona Bae : 1\n",
      " Jason Segel : 1\n",
      " Russell Brand : 1\n",
      " Alan Ladd : 1\n",
      " Van Heflin : 1\n",
      " Walter Pidgeon : 1\n",
      " Anne Francis : 1\n",
      " Billy Zane : 1\n",
      " Casey Affleck : 2\n",
      " Thierry Lhermitte : 1\n",
      " Jacques Villeret : 1\n",
      " Francis Huster : 1\n",
      " Keri Russell : 2\n",
      " Andy Serkis : 2\n",
      " Barry Pepper : 2\n",
      " Armin Mueller-Stahl : 2\n",
      " Justin Braine : 1\n",
      " Quinton Aaron : 1\n",
      " Tim McGraw : 1\n",
      " Michelle Williams : 2\n",
      " Paul Sanchez : 1\n",
      " Angela Bassett : 1\n",
      " Delroy Lindo : 1\n",
      " Alexandra Dahlström : 1\n",
      " Rebecka Liljeberg : 1\n",
      " Erica Carlson : 1\n",
      " Peter Mullan : 1\n",
      " Shaun Evans : 1\n",
      " Michael Beck : 1\n",
      " James Remar : 1\n",
      " Dorsey Wright : 1\n",
      " François Truffaut : 1\n",
      " Teri Garr : 2\n",
      " Jonathan Rhys Meyers : 2\n",
      " Ashton Kutcher : 1\n",
      " Amy Smart : 1\n",
      " Melora Walters : 1\n",
      " Ron Perlman : 1\n",
      " Daniel Emilfork : 1\n",
      " Judith Vittet : 1\n",
      " Jamie Bell : 1\n",
      " Julie Walters : 1\n",
      " Jean Heywood : 1\n",
      " Hugh Grant : 2\n",
      " Martine McCutcheon : 1\n",
      " Zero Mostel : 1\n",
      " Dick Shawn : 1\n",
      " Richard Jenkins : 1\n",
      " Haaz Sleiman : 1\n",
      " Danai Gurira : 1\n",
      " Roberta Maxwell : 1\n",
      " James Fleet : 1\n",
      " Janusz Gajos : 1\n",
      " Toni Servillo : 1\n",
      " Carlo Verdone : 1\n",
      " Sabrina Ferilli : 1\n",
      " Mary Ure : 1\n",
      " Jason London : 1\n",
      " Wiley Wiggins : 1\n",
      " John Getz : 2\n"
     ]
    },
    {
     "name": "stdout",
     "output_type": "stream",
     "text": [
      " Dan Hedaya : 1\n",
      " Thomas Turgoose : 1\n",
      " Stephen Graham : 1\n",
      " Jo Hartley : 1\n",
      " Li Sun : 1\n",
      " Yong Dong : 1\n",
      " Glenn Close : 2\n",
      " Leigh Whannell : 1\n",
      " Adriana Caselotti : 1\n",
      " Harry Stockwell : 1\n",
      " Lucille La Verne : 1\n",
      " Teri Hatcher : 1\n",
      " John Hodgman : 1\n",
      " Josh Hutcherson : 1\n",
      " Liam Hemsworth : 1\n",
      " Kevin Kline : 4\n",
      " Peter MacNicol : 1\n",
      " Sylvie Testud : 1\n",
      " Pascal Greggory : 1\n",
      " Hayden Christensen : 2\n",
      " Hailee Steinfeld : 1\n",
      " Griffin Dunne : 1\n",
      " Rosanna Arquette : 2\n",
      " Verna Bloom : 2\n",
      " Kristen Bell : 1\n",
      " Idina Menzel : 1\n",
      " Jonathan Groff : 1\n",
      " Sue Lyon : 1\n",
      " Owen Wilson : 1\n",
      " Dave Goelz : 1\n",
      " Steve Whitmire : 1\n",
      " Bob Hoskins : 1\n",
      " Joanna Cassidy : 1\n",
      " Yeong-ae Lee : 1\n",
      " Shi-hoo Kim : 1\n",
      " Rose McGowan : 1\n",
      " Danny Trejo : 1\n",
      " Mikael Persbrandt : 1\n",
      " Trine Dyrholm : 1\n",
      " Markus Rygaard : 1\n",
      " David Hemmings : 1\n",
      " Vanessa Redgrave : 1\n",
      " Sarah Miles : 1\n",
      " Bridgit Mendler : 1\n",
      " Amy Poehler : 1\n",
      " Will Arnett : 1\n",
      " Michelle Monaghan : 2\n",
      " Bill Pullman : 1\n",
      " John Roselius : 1\n",
      " John Leguizamo : 2\n",
      " Keisha Castle-Hughes : 1\n",
      " Rawiri Paratene : 1\n",
      " Vicky Haughton : 1\n",
      " Michael Peña : 1\n",
      " Steve Coogan : 1\n",
      " Sophie Kennedy Clark : 1\n",
      " Shia LaBeouf : 1\n",
      " Jean-Marc Barr : 1\n",
      " Brian Dennehy : 1\n",
      " Richard Crenna : 1\n",
      " Michael Chekhov : 1\n",
      " Edward Woodward : 1\n",
      " Christopher Lee : 2\n",
      " Diane Cilento : 1\n",
      " Rosario Dawson : 2\n",
      " Brad Davis : 1\n",
      " Irene Miracle : 1\n",
      " Bo Hopkins : 1\n",
      " Telly Savalas : 1\n",
      " Elliott Gould : 1\n",
      " Greta Scacchi : 1\n",
      " Fred Ward : 1\n",
      " Catherine Zeta-Jones : 1\n",
      " Maribel Verdú : 1\n",
      " Daniel Giménez Cacho : 1\n",
      " James Franco : 2\n",
      " Amber Tamblyn : 1\n",
      " Kate Mara : 1\n",
      " Milla Jovovich : 1\n",
      " David Alan Basche : 1\n",
      " Olivia Thirlby : 1\n",
      " Liza Colón-Zayas : 1\n",
      " Ni Ni : 1\n",
      " Xinyi Zhang : 1\n",
      " Bela Lugosi : 1\n",
      " Helen Chandler : 1\n",
      " David Manners : 1\n",
      " Marianna Hill : 1\n",
      " Jessica Tandy : 2\n",
      " Mary Stuart Masterson : 1\n",
      " Jackie Earle Haley : 1\n",
      " Patrick Wilson : 3\n",
      " Carla Gugino : 1\n",
      " Cillian Murphy : 2\n",
      " Christopher Eccleston : 3\n",
      " Jessica Biel : 1\n",
      " Paul Giamatti : 3\n",
      " Michael Cera : 3\n",
      " Andy Garcia : 1\n",
      " Anjelica Huston : 1\n",
      " Phil Harris : 2\n",
      " Sebastian Cabot : 1\n",
      " Louis Prima : 1\n",
      " Cameron Bright : 2\n",
      " Maria Bello : 2\n",
      " Benoît Poelvoorde : 1\n",
      " Jacqueline Poelvoorde-Pappaert : 1\n",
      " Nelly Pappaert : 1\n",
      " Demi Moore : 1\n",
      " Jackie Chan : 1\n",
      " Ho-Sung Pak : 1\n",
      " Lung Ti : 1\n",
      " Khalid Abdalla : 1\n",
      " Ahmad Khan Mahmoodzada : 1\n",
      " Atossa Leoni : 1\n",
      " Meg Ryan : 1\n",
      " Ron Eldard : 1\n",
      " Gary Busey : 1\n",
      " Antonio Banderas : 2\n",
      " Elena Anaya : 1\n",
      " Jan Cornet : 1\n",
      " Brandon Lee : 1\n",
      " Michael Wincott : 1\n",
      " Rochelle Davis : 1\n",
      " George Chakiris : 1\n",
      " Richard Beymer : 1\n",
      " Josh Lucas : 1\n",
      " Takeshi Kitano : 1\n",
      " Tadanobu Asano : 1\n",
      " Yui Natsukawa : 1\n",
      " Barbara Hershey : 3\n",
      " Priscilla Presley : 1\n",
      " O.J. Simpson : 1\n",
      " Fionnula Flanagan : 2\n",
      " Claudine Longet : 1\n",
      " Natalia Borisova : 1\n",
      " Embeth Davidtz : 1\n",
      " Marcus Gilbert : 1\n",
      " Jeremy Renner : 1\n",
      " Anthony Mackie : 1\n",
      " Brian Geraghty : 1\n",
      " Ananda George : 1\n",
      " Ray Sahetapy : 1\n",
      " Carmen Maura : 1\n",
      " Jeremy Theobald : 1\n",
      " Alex Haw : 1\n",
      " Lucy Russell : 1\n",
      " Jack Black : 1\n",
      " Ian McShane : 1\n",
      " Bruce Spence : 1\n",
      " Michael Preston : 1\n",
      " Kôji Yakusho : 1\n",
      " Takayuki Yamada : 1\n",
      " Yûsuke Iseya : 1\n",
      " Michael Badalucco : 1\n",
      " Karl Markovics : 1\n",
      " August Diehl : 1\n",
      " Devid Striesow : 1\n",
      " Taylor Kitsch : 1\n",
      " Tom Holland : 1\n",
      " Zach Braff : 1\n",
      " Peter Sarsgaard : 2\n",
      " Roberts Blossom : 1\n",
      " Wei Tang : 1\n",
      " David Oyelowo : 1\n",
      " Carmen Ejogo : 1\n",
      " Susanne Lothar : 1\n",
      " Arno Frisch : 1\n",
      " Mary Elizabeth Mastrantonio : 1\n",
      " Brian Bedford : 1\n",
      " Roger Miller : 1\n",
      " Joseph Fiennes : 1\n",
      " Stuart Graham : 1\n",
      " Laine Megaw : 1\n",
      " Brian Milligan : 1\n",
      " Kate Capshaw : 1\n",
      " Jonathan Ke Quan : 1\n",
      " Xiaoming Huang : 1\n",
      " Sammo Kam-Bo Hung : 1\n",
      " Jodi Benson : 1\n",
      " Samuel E. Wright : 1\n",
      " Rene Auberjonois : 1\n",
      " Milton Berle : 1\n",
      " Ethel Merman : 1\n",
      " Harvey Stephens : 1\n",
      " Alicia Vikander : 1\n",
      " Mikkel Boe Følsgaard : 1\n",
      " Timothy Balme : 1\n",
      " Diana Peñalver : 1\n",
      " Elizabeth Moody : 1\n",
      " Jason Bateman : 1\n",
      " Jonah Bobo : 1\n",
      " Haley Ramm : 1\n",
      " Sophie Nélisse : 1\n",
      " Charles Grodin : 1\n",
      " Yaphet Kotto : 1\n",
      " David Naughton : 1\n",
      " Jenny Agutter : 1\n",
      " Joe Belcher : 1\n",
      " Kimberly Elise : 1\n",
      " Tyler Labine : 1\n",
      " Alan Tudyk : 1\n",
      " Katrina Bowden : 1\n",
      " Susan Sarandon : 1\n",
      " Robert Prosky : 1\n",
      " Rebecca Hall : 1\n",
      " Jon Hamm : 1\n",
      " Chloë Sevigny : 1\n",
      " Denis Leary : 1\n",
      " Ray Romano : 1\n",
      " Ray Walston : 1\n",
      " Thomas Haden Church : 1\n",
      " Virginia Madsen : 1\n",
      " Iben Hjejle : 1\n",
      " Todd Louiso : 1\n",
      " Terry Gilliam : 1\n",
      " Julian Sands : 1\n",
      " Ellen Sandweiss : 1\n",
      " Richard DeManincor : 1\n",
      " Jada Pinkett Smith : 2\n",
      " Steve Martin : 1\n",
      " John Candy : 1\n",
      " Laila Robins : 1\n",
      " Aksel Hennie : 1\n",
      " Synnøve Macody Lund : 1\n",
      " Nikolaj Coster-Waldau : 1\n",
      " Kim Basinger : 1\n",
      " André Dussollier : 1\n",
      " Henry Silva : 1\n",
      " John Tormey : 1\n",
      " Paul Rhys : 1\n",
      " Elisabeth Harnois : 1\n",
      " Jesse McCartney : 1\n",
      " Margo Harshman : 1\n",
      " Adam Bryant : 1\n",
      " Colm Meaney : 1\n",
      " Henry Goodman : 1\n",
      " David Roper : 1\n",
      " Jonathan Frakes : 1\n",
      " Brent Spiner : 1\n",
      " Sean Bean : 1\n",
      " Freddie Highmore : 1\n",
      " Annie Rose Buckley : 1\n",
      " Vicellous Reon Shannon : 1\n",
      " Elizabeth Peña : 1\n",
      " Peter Sallis : 1\n",
      " Chevy Chase : 2\n",
      " David Strathairn : 2\n",
      " Susan George : 1\n",
      " Peter Vaughan : 1\n",
      " Chadwick Boseman : 1\n",
      " T.R. Knight : 1\n",
      " Jon Favreau : 1\n",
      " Padraic Delaney : 1\n",
      " Liam Cunningham : 1\n",
      " Charlie Hunnam : 1\n",
      " Claire Forlani : 1\n",
      " Adam Sandler : 1\n",
      " Peter Weller : 1\n",
      " Nancy Allen : 1\n",
      " Dan O'Herlihy : 1\n",
      " Kristin Scott Thomas : 1\n",
      " Kristen Wiig : 1\n",
      " Benjamin Bratt : 1\n",
      " Pam Grier : 1\n",
      " Robert Forster : 1\n",
      " Tyrin Turner : 1\n",
      " Larenz Tate : 1\n",
      " June Kyoto Lu : 1\n",
      " François Bégaudeau : 1\n",
      " Agame Malembo-Emene : 1\n",
      " Angélica Sancio : 1\n",
      " Jennifer Tilly : 2\n",
      " Shari Springer Berman : 1\n",
      " Harvey Pekar : 1\n",
      " Ben Whishaw : 1\n",
      " Halle Berry : 2\n",
      " Dickie Jones : 1\n",
      " Christian Rub : 1\n",
      " Mel Blanc : 1\n",
      " Liev Schreiber : 1\n",
      " Bridget Fonda : 1\n",
      " Vera Farmiga : 4\n",
      " Doris Day : 1\n",
      " Brenda de Banzie : 1\n",
      " Rob Morrow : 1\n",
      " Ron Howard : 1\n",
      " Paul Le Mat : 1\n",
      " Annie Corley : 1\n",
      " Mark Lee : 1\n",
      " Bill Kerr : 1\n",
      " Eilidh Rankin : 1\n",
      " Duncan MacNeil : 1\n",
      " Nathan West : 1\n",
      " Catalina Sandino Moreno : 1\n",
      " Guilied Lopez : 1\n",
      " Orlando Tobón : 1\n",
      " Mary Elizabeth Winstead : 1\n",
      " Kieran Culkin : 1\n",
      " Jared Harris : 1\n",
      " Geena Davis : 2\n",
      " Fernando Cayo : 1\n",
      " Roger Príncep : 1\n",
      " Monica Bellucci : 1\n",
      " Giuseppe Sulfaro : 1\n",
      " Luciano Federico : 1\n",
      " Cliff Robertson : 1\n",
      " Manuela Velasco : 1\n",
      " Ferran Terraza : 1\n",
      " Jorge-Yamam Serrano : 1\n",
      " Jessie Royce Landis : 1\n",
      " Fred Willard : 1\n",
      " Eugene Levy : 1\n",
      " Eugene Hutz : 1\n",
      " Boris Leskin : 1\n",
      " Heather Langenkamp : 1\n",
      " Robert Englund : 1\n",
      " Stephen Dorff : 1\n",
      " Marisol Nichols : 1\n",
      " Vincent Miller : 1\n",
      " Kristen Stewart : 1\n",
      " Matthias Schoenaerts : 1\n",
      " Armand Verdure : 1\n",
      " Imelda Staunton : 1\n",
      " Patrick Dempsey : 1\n",
      " Aidan Quinn : 1\n",
      " Vincent Gallo : 1\n",
      " Christina Ricci : 2\n",
      " Rachel Weisz : 1\n",
      " Ralph Macchio : 1\n",
      " Marilyn Burns : 1\n",
      " Edwin Neal : 1\n",
      " Allen Danziger : 1\n",
      " Ming-Na Wen : 1\n",
      " BD Wong : 1\n",
      " Diego Luna : 1\n",
      " Michael Ironside : 1\n",
      " Sean Gullette : 1\n",
      " Mark Margolis : 1\n",
      " Ben Shenkman : 1\n",
      " Federico Luppi : 1\n",
      " Kate Beckinsale : 1\n",
      " Charlize Theron : 2\n",
      " Terence Stamp : 1\n",
      " Michael B. Jordan : 1\n",
      " Melonie Diaz : 1\n",
      " Nick Stahl : 1\n",
      " Maricel Álvarez : 1\n",
      " Hanaa Bouchaib : 1\n",
      " Lotte Lenya : 1\n",
      " Chris O'Dowd : 1\n",
      " Kelly Reilly : 1\n",
      " Ray McAnally : 1\n",
      " Tom Hollander : 1\n",
      " Peter Capaldi : 1\n",
      " James Gandolfini : 1\n",
      " Jon Finch : 1\n",
      " Barry Foster : 1\n",
      " Alec McCowen : 1\n",
      " Melanie Lynskey : 1\n",
      " Sarah Peirse : 1\n",
      " Ray Winstone : 1\n",
      " Jacqueline Bisset : 1\n",
      " Robert Vaughn : 1\n",
      " Faye Wong : 1\n",
      " Felicity Huffman : 1\n",
      " Kevin Zegers : 1\n",
      " William Hurt : 1\n",
      " Giancarlo Esposito : 1\n",
      " Jessica Harper : 1\n",
      " Stefania Casini : 1\n",
      " Flavio Bucci : 1\n",
      " Fele Martínez : 1\n",
      " Adam Levine : 1\n",
      " Kelly McGillis : 1\n",
      " Lukas Haas : 2\n",
      " Tye Sheridan : 1\n",
      " Jacob Lofland : 1\n",
      " Joe Anderson : 1\n",
      " Andrew Simpson : 1\n",
      " Oscar Isaac : 1\n",
      " Emilie de Ravin : 1\n",
      " Ione Skye : 1\n",
      " John Mahoney : 1\n",
      " Danny DeVito : 1\n",
      " Gerry Becker : 1\n",
      " David Proval : 1\n",
      " Nigel Terry : 1\n",
      " Helen Mirren : 1\n",
      " Nicholas Clay : 1\n",
      " Kim Darby : 1\n",
      " Glen Campbell : 1\n",
      " David Bowie : 1\n",
      " Toby Froud : 1\n",
      " Kathryn Beaumont : 1\n",
      " Ed Wynn : 1\n",
      " Richard Haydn : 1\n",
      " Sarah Snook : 1\n",
      " Noah Taylor : 1\n",
      " Trey Wilson : 1\n",
      " Sean Hayes : 1\n",
      " Debra Winger : 1\n",
      " Michael Shannon : 1\n",
      " Shea Whigham : 1\n",
      " Dennis Quaid : 1\n",
      " Dennis Haysbert : 1\n",
      " Jack Nance : 1\n",
      " Charlotte Stewart : 1\n",
      " Allen Joseph : 1\n",
      " Greta Gerwig : 1\n",
      " Mickey Sumner : 1\n",
      " Adam Driver : 1\n",
      " Macaulay Culkin : 1\n",
      " Daniel Stern : 1\n",
      " Gina Gershon : 1\n",
      " Noah Hathaway : 1\n",
      " Barret Oliver : 1\n",
      " Tami Stronach : 1\n",
      " Jerry Adler : 1\n",
      " Imogene Coca : 1\n",
      " Abigail Breslin : 1\n",
      " Julia Louis-Dreyfus : 1\n",
      " Allison Janney : 1\n",
      " Clifton Collins Jr. : 1\n",
      " Anne Parillaud : 1\n",
      " Marc Duret : 1\n",
      " Patrick Fontana : 1\n",
      " Sally Field : 1\n",
      " Anna Friel : 1\n",
      " Abbie Cornish : 1\n",
      " Dan Castellaneta : 1\n",
      " Nancy Cartwright : 1\n",
      " Leslie Bibb : 1\n",
      " John Doman : 1\n",
      " Jessica Lange : 1\n",
      " Mary Steenburgen : 1\n",
      " Billy Boyd : 1\n",
      " JoBeth Williams : 1\n",
      " Heather O'Rourke : 1\n",
      " Tamara Tunie : 1\n"
     ]
    }
   ],
   "source": [
    "# Iterate through each row and cell to find each actor.\n",
    "# Append every instance of an actor into a list.\n",
    "\n",
    "all_actors = []\n",
    "actors_by_movies = act.apply(literal_eval)\n",
    "for actors_list in actors_by_movies:\n",
    "    for actor in actors_list:\n",
    "        all_actors.append(actor)\n",
    "        \n",
    "#print(all_actors)\n",
    "# Create a hash with Key: Actor / Value: Number of the movies they appeared in\n",
    "freq = {}\n",
    "for actor in all_actors: \n",
    "    if (actor in freq): \n",
    "        freq[actor] += 1\n",
    "    else: \n",
    "        freq[actor] = 1\n",
    "\n",
    "# Print out hash of actors : number_of_movies\n",
    "#print(freq)\n",
    "print(\"Actor : Movie Count\")\n",
    "max_count = 0\n",
    "leading_actor = \"\"\n",
    "for key, value in freq.items(): \n",
    "    print(\" {} : {}\".format(key, value)) \n",
    "    if value > max_count:\n",
    "        max_count = value\n",
    "        leading_actor = key\n"
   ]
  },
  {
   "cell_type": "markdown",
   "metadata": {},
   "source": [
    "Yes!  There are many actors with a movie count > 1"
   ]
  },
  {
   "cell_type": "markdown",
   "metadata": {},
   "source": [
    "##### Which actowere in the most number of movies?"
   ]
  },
  {
   "cell_type": "code",
   "execution_count": 108,
   "metadata": {
    "scrolled": true
   },
   "outputs": [
    {
     "name": "stdout",
     "output_type": "stream",
     "text": [
      "Actor with Most Movies: Robert De Niro in 18 movies\n"
     ]
    }
   ],
   "source": [
    "# Print out the Leading Actor in most number of films\n",
    "print(\"Actor with Most Movies: {} in {} movies\".format(leading_actor, max_count))"
   ]
  },
  {
   "cell_type": "code",
   "execution_count": 111,
   "metadata": {
    "scrolled": true
   },
   "outputs": [
    {
     "data": {
      "text/html": [
       "<div>\n",
       "<style scoped>\n",
       "    .dataframe tbody tr th:only-of-type {\n",
       "        vertical-align: middle;\n",
       "    }\n",
       "\n",
       "    .dataframe tbody tr th {\n",
       "        vertical-align: top;\n",
       "    }\n",
       "\n",
       "    .dataframe thead th {\n",
       "        text-align: right;\n",
       "    }\n",
       "</style>\n",
       "<table border=\"1\" class=\"dataframe\">\n",
       "  <thead>\n",
       "    <tr style=\"text-align: right;\">\n",
       "      <th></th>\n",
       "      <th>actor</th>\n",
       "      <th>movie_count</th>\n",
       "    </tr>\n",
       "  </thead>\n",
       "  <tbody>\n",
       "    <tr>\n",
       "      <th>0</th>\n",
       "      <td>Robert De Niro</td>\n",
       "      <td>18</td>\n",
       "    </tr>\n",
       "    <tr>\n",
       "      <th>1</th>\n",
       "      <td>Clint Eastwood</td>\n",
       "      <td>14</td>\n",
       "    </tr>\n",
       "    <tr>\n",
       "      <th>2</th>\n",
       "      <td>Brad Pitt</td>\n",
       "      <td>14</td>\n",
       "    </tr>\n",
       "    <tr>\n",
       "      <th>3</th>\n",
       "      <td>Tom Hanks</td>\n",
       "      <td>14</td>\n",
       "    </tr>\n",
       "    <tr>\n",
       "      <th>4</th>\n",
       "      <td>Al Pacino</td>\n",
       "      <td>13</td>\n",
       "    </tr>\n",
       "    <tr>\n",
       "      <th>5</th>\n",
       "      <td>Johnny Depp</td>\n",
       "      <td>12</td>\n",
       "    </tr>\n",
       "    <tr>\n",
       "      <th>6</th>\n",
       "      <td>Leonardo DiCaprio</td>\n",
       "      <td>11</td>\n",
       "    </tr>\n",
       "    <tr>\n",
       "      <th>7</th>\n",
       "      <td>Christian Bale</td>\n",
       "      <td>11</td>\n",
       "    </tr>\n",
       "    <tr>\n",
       "      <th>8</th>\n",
       "      <td>Dustin Hoffman</td>\n",
       "      <td>11</td>\n",
       "    </tr>\n",
       "    <tr>\n",
       "      <th>9</th>\n",
       "      <td>James Stewart</td>\n",
       "      <td>10</td>\n",
       "    </tr>\n",
       "  </tbody>\n",
       "</table>\n",
       "</div>"
      ],
      "text/plain": [
       "               actor  movie_count\n",
       "0     Robert De Niro           18\n",
       "1     Clint Eastwood           14\n",
       "2          Brad Pitt           14\n",
       "3          Tom Hanks           14\n",
       "4          Al Pacino           13\n",
       "5        Johnny Depp           12\n",
       "6  Leonardo DiCaprio           11\n",
       "7     Christian Bale           11\n",
       "8     Dustin Hoffman           11\n",
       "9      James Stewart           10"
      ]
     },
     "execution_count": 111,
     "metadata": {},
     "output_type": "execute_result"
    }
   ],
   "source": [
    "# Push the hash back into a dataframe and find Top 10 actors with the most movies\n",
    "actors_by_movie_count = pd.DataFrame(list(freq.items()), columns=['actor', 'movie_count']).sort_values(by='movie_count', ascending=False)\n",
    "\n",
    "# Reset Index\n",
    "actors_by_movie_count = actors_by_movie_count.reset_index(drop=True)\n",
    "\n",
    "# Print Top 10 Actors with most number movies\n",
    "actors_by_movie_count.head(10)"
   ]
  },
  {
   "cell_type": "code",
   "execution_count": 112,
   "metadata": {
    "scrolled": true
   },
   "outputs": [
    {
     "data": {
      "image/png": "[encoded data removed]",
      "text/plain": [
       "<Figure size 864x432 with 1 Axes>"
      ]
     },
     "metadata": {},
     "output_type": "display_data"
    }
   ],
   "source": [
    "# Show Bar Char of Top 10 actors with most movies\n",
    "actors_by_movie_count.head(10).plot.bar(x='actor', y='movie_count',figsize=(12,6))\n",
    "ax.set_title(\"Movie Count by Actors\");\n",
    "ax.set_xlabel(\"Actors\");\n",
    "ax.set_ylabel(\"Movie Count\");"
   ]
  },
  {
   "cell_type": "markdown",
   "metadata": {},
   "source": [
    "#### Additonal Questions to Explore\n",
    "* Which actors were in each content rating?\n",
    "* What type of genre did a given actor appear mostly in?"
   ]
  },
  {
   "cell_type": "code",
   "execution_count": null,
   "metadata": {},
   "outputs": [],
   "source": []
  }
 ],
 "metadata": {
  "kernelspec": {
   "display_name": "Python 3",
   "language": "python",
   "name": "python3"
  },
  "language_info": {
   "codemirror_mode": {
    "name": "ipython",
    "version": 3
   },
   "file_extension": ".py",
   "mimetype": "text/x-python",
   "name": "python",
   "nbconvert_exporter": "python",
   "pygments_lexer": "ipython3",
   "version": "3.7.3"
  }
 },
 "nbformat": 4,
 "nbformat_minor": 2
}
