{
 "cells": [
  {
   "cell_type": "markdown",
   "metadata": {},
   "source": [
    "# Class: [Data Science](https://git.generalassemb.ly/meccaLeccaHi/dat-sf-60)\n",
    "\n",
    "**Student: [Allen Au](https://www.linkedin.com/in/auallen/)**\n",
    "    \n",
    "**Date: Oct 3, 2019**\n",
    "\n",
    "## Project 1: Python Coding Exercise\n",
    "\n",
    "* Challenge 1: Largest Palindrome\n",
    "* Challenge 2: Summation of Primes\n",
    "* Challenge 3: Multiples of 3 and 5\n",
    "* Challenge 4: String Compressor\n",
    "* BONUS Challenge: FizzBuzz\n",
    "\n",
    "---"
   ]
  },
  {
   "cell_type": "markdown",
   "metadata": {},
   "source": [
    "### Challenge 1: Largest Palindrome\n",
    "A palindromic number reads the same both ways. For example, 1234321 is a palindrome. The largest palindrome made from the product of two two-digit numbers is 9009 = 91 × 99. Find the largest palindrome made from the product of two three-digit numbers."
   ]
  },
  {
   "cell_type": "code",
   "execution_count": 11,
   "metadata": {},
   "outputs": [
    {
     "name": "stdout",
     "output_type": "stream",
     "text": [
      "906609\n"
     ]
    }
   ],
   "source": [
    "# Option 1\n",
    "\n",
    "largest_palindrome = 0\n",
    "\n",
    "# Iterate through first set of numbers\n",
    "for i in range(100, 1000):\n",
    "    #print(\"i:\", i)\n",
    "    \n",
    "    # Iterate through second set of numbers\n",
    "    for n in range(100, 1000):\n",
    "        #print(\"n\", n)\n",
    "        \n",
    "        # Multiplyd\n",
    "        num = i * n\n",
    "        # Check forward string\n",
    "        str_num = str(num)\n",
    "        # Check backward string\n",
    "        rev_str = str_num[::-1]\n",
    "        # Store biggest\n",
    "        if str_num == rev_str:\n",
    "            if num > largest_palindrome:\n",
    "                largest_palindrome = num\n",
    "\n",
    "print(largest_palindrome)"
   ]
  },
  {
   "cell_type": "code",
   "execution_count": 2,
   "metadata": {},
   "outputs": [
    {
     "data": {
      "text/plain": [
       "906609"
      ]
     },
     "execution_count": 2,
     "metadata": {},
     "output_type": "execute_result"
    }
   ],
   "source": [
    "# Option 2\n",
    "\n",
    "pals = []    # List to append palindromes\n",
    "\n",
    "for i in range(999,99,-1):    # 999 to 100 decreasing\n",
    "    for j in range(999,99,-1):    # 999 to 100 decreasing\n",
    "        if str(i*j)== str(i*j)[::-1]:    # If product is a palindrome,\n",
    "            pals.append(i*j)    # append the result\n",
    "\n",
    "sorted(pals, reverse=True)[0]     # Sort the final list and return the largest value        "
   ]
  },
  {
   "cell_type": "markdown",
   "metadata": {},
   "source": [
    "### Challenge 2: Summation of Primes\n",
    "The sum of the primes below 10 is 2 + 3 + 5 + 7 = 17. Find the sum of all the primes below 2,000."
   ]
  },
  {
   "cell_type": "code",
   "execution_count": 74,
   "metadata": {},
   "outputs": [
    {
     "name": "stdout",
     "output_type": "stream",
     "text": [
      "Total of Primes 277050\n",
      "<class 'list'>\n"
     ]
    },
    {
     "ename": "TypeError",
     "evalue": "'int' object is not callable",
     "output_type": "error",
     "traceback": [
      "\u001b[0;31m---------------------------------------------------------------------------\u001b[0m",
      "\u001b[0;31mTypeError\u001b[0m                                 Traceback (most recent call last)",
      "\u001b[0;32m<ipython-input-74-f0e31241fc4c>\u001b[0m in \u001b[0;36m<module>\u001b[0;34m\u001b[0m\n\u001b[1;32m     17\u001b[0m \u001b[0mprint\u001b[0m\u001b[0;34m(\u001b[0m\u001b[0;34m\"Total of Primes\"\u001b[0m\u001b[0;34m,\u001b[0m \u001b[0mtotal\u001b[0m\u001b[0;34m)\u001b[0m\u001b[0;34m\u001b[0m\u001b[0;34m\u001b[0m\u001b[0m\n\u001b[1;32m     18\u001b[0m \u001b[0mprint\u001b[0m\u001b[0;34m(\u001b[0m\u001b[0mtype\u001b[0m\u001b[0;34m(\u001b[0m\u001b[0mprimes\u001b[0m\u001b[0;34m)\u001b[0m\u001b[0;34m)\u001b[0m\u001b[0;34m\u001b[0m\u001b[0;34m\u001b[0m\u001b[0m\n\u001b[0;32m---> 19\u001b[0;31m \u001b[0msum\u001b[0m\u001b[0;34m(\u001b[0m\u001b[0mprimes\u001b[0m\u001b[0;34m)\u001b[0m\u001b[0;34m\u001b[0m\u001b[0;34m\u001b[0m\u001b[0m\n\u001b[0m",
      "\u001b[0;31mTypeError\u001b[0m: 'int' object is not callable"
     ]
    }
   ],
   "source": [
    "# Strategy:\n",
    "#\n",
    "####################################################\n",
    "\n",
    "primes = [] # Set a list to catch prime values\n",
    "total = 0\n",
    "\n",
    "for i in range(2, 2000): \n",
    "    # All statement evaluates to true if all of the iterables satisfy the criteria\n",
    "    # If i divided by the existing primes(x) never has a remainder of 0\n",
    "    if all(i % x != 0 for x in primes):\n",
    "#         print(i)\n",
    "        # Append this number to the primes list\n",
    "        primes.append(i)\n",
    "        total += i\n",
    "\n",
    "print(\"Total of Primes\", total)\n",
    "print(type(primes))\n",
    "sum(primes)"
   ]
  },
  {
   "cell_type": "markdown",
   "metadata": {},
   "source": [
    "### Challenge 3: Multiples of 3 and 5\n",
    "If we list all of the natural numbers below 10 that are multiples of 3 or 5, we get 3, 5, 6, and 9. The sum of these multiples is 23. Find the sum of all the multiples of 3 and 5 below 1,000."
   ]
  },
  {
   "cell_type": "code",
   "execution_count": 25,
   "metadata": {},
   "outputs": [
    {
     "name": "stdout",
     "output_type": "stream",
     "text": [
      "Sum: 233168\n"
     ]
    }
   ],
   "source": [
    "# Strategy:\n",
    "#\n",
    "####################################################\n",
    "sum = 0\n",
    "multiples_of_3_and_5 = []\n",
    "\n",
    "for i in range(0,1000):\n",
    "    if i % 3 == 0 or i % 5 == 0:\n",
    "        multiples_of_3_and_5.append(i)\n",
    "        \n",
    "for n in multiples_of_3_and_5:\n",
    "    sum += n\n",
    "print(\"Sum:\", sum)"
   ]
  },
  {
   "cell_type": "markdown",
   "metadata": {},
   "source": [
    "### Challenge 4: String Compressor\n",
    "Implement a method to perform basic string compression using the counts of repeated characters. (This is called run-length encoding.) For example, the string \"aabcccccaaa\" would become a2b1c5a3. If the “compressed” string would not become smaller than the original string, your method should return the original string. You can assume the string has only uppercase and lowercase letters (a–z). Specify whether your solution is case sensitive or case insensitive and what you would need to change to make it the other."
   ]
  },
  {
   "cell_type": "code",
   "execution_count": 6,
   "metadata": {},
   "outputs": [
    {
     "name": "stdout",
     "output_type": "stream",
     "text": [
      "a2b1c6a3\n",
      "cat\n"
     ]
    }
   ],
   "source": [
    "# Option 1: Case Sensitive\n",
    "\n",
    "# Create function\n",
    "def string_compressor(word):\n",
    "    # initalize empty items\n",
    "    compressed_word = \"\"\n",
    "    count_letter = \"\"\n",
    "    count = 0\n",
    "    \n",
    "    # Check if each letter matches current count_letter — the one we're checking\n",
    "    for letter in word:\n",
    "        if letter == count_letter:\n",
    "            count += 1\n",
    "        else:\n",
    "            # Count redundancies of a single letters\n",
    "            if count > 0:\n",
    "                compressed_word += count_letter + str(count)\n",
    "            count_letter = letter\n",
    "            count = 1\n",
    "    compressed_word += count_letter + str(count)\n",
    "    \n",
    "    # Return the shorter option — either original word or compressed string\n",
    "    if len(compressed_word) < len(word):\n",
    "        return compressed_word\n",
    "    else:\n",
    "        return word\n",
    "\n",
    "print(string_compressor('aabccccccaaa'))\n",
    "\n",
    "print(string_compressor('cat'))"
   ]
  },
  {
   "cell_type": "code",
   "execution_count": 7,
   "metadata": {},
   "outputs": [
    {
     "data": {
      "text/plain": [
       "'i1n1c2d1t1a2e2s1'"
      ]
     },
     "execution_count": 7,
     "metadata": {},
     "output_type": "execute_result"
    }
   ],
   "source": [
    "# Option 2: Case Sensitive: Output Order Disrupted\n",
    "\n",
    "# Define function\n",
    "def compressed_string(string):\n",
    "    # Initialize empty string\n",
    "    compressed = ''\n",
    "    \n",
    "    # If string length is not all unique letters (the set of letters), otherwise return original string\n",
    "    if len(string) != len(set(string)):\n",
    "        \n",
    "        # Loop through each; first set count to zero\n",
    "        for i in set(string):\n",
    "            count = 0\n",
    "            # Look for if each letter matches another letter in the string; increment count by one\n",
    "            for j in list(string):\n",
    "                if i == j:\n",
    "                    count += 1\n",
    "            # Put together the letter and count for that letter's occurrences\n",
    "            compressed += i+str(count)\n",
    "        return compressed\n",
    "    else:\n",
    "        return string\n",
    "\n",
    "compressed_string('datascience')"
   ]
  },
  {
   "cell_type": "code",
   "execution_count": 8,
   "metadata": {},
   "outputs": [
    {
     "name": "stdout",
     "output_type": "stream",
     "text": [
      "a2b1c5a3\n"
     ]
    }
   ],
   "source": [
    "# Bonus: Using Itertools to Do This: Case Sensitive\n",
    "import itertools\n",
    "\n",
    "def compressor(string):\n",
    "    output = ''\n",
    "    for k, g in itertools.groupby(string):\n",
    "        output += k + str(len(list(g)))\n",
    "    if len(output) > len(string):\n",
    "    else:\n",
    "        print(output)\n",
    "        \n",
    "compressor('aabcccccaaa')"
   ]
  },
  {
   "cell_type": "markdown",
   "metadata": {},
   "source": [
    "### BONUS Challenge: FizzBuzz\n",
    "Write a program that prints all of the numbers from 1 to 100. For multiples of 3, instead of the number, print \"Fizz;\" for multiples of 5, print \"Buzz.\" For numbers that are multiples of both 3 and 5, print \"FizzBuzz.\""
   ]
  },
  {
   "cell_type": "code",
   "execution_count": 7,
   "metadata": {},
   "outputs": [
    {
     "name": "stdout",
     "output_type": "stream",
     "text": [
      "FizzBuzz: 0\n",
      "Not a multiple of 3 or 5: 1\n",
      "Not a multiple of 3 or 5: 2\n",
      "Fizz: 3\n",
      "Not a multiple of 3 or 5: 4\n",
      "Buzz: 5\n",
      "Fizz: 6\n",
      "Not a multiple of 3 or 5: 7\n",
      "Not a multiple of 3 or 5: 8\n",
      "Fizz: 9\n",
      "Buzz: 10\n",
      "Not a multiple of 3 or 5: 11\n",
      "Fizz: 12\n",
      "Not a multiple of 3 or 5: 13\n",
      "Not a multiple of 3 or 5: 14\n",
      "FizzBuzz: 15\n",
      "Not a multiple of 3 or 5: 16\n",
      "Not a multiple of 3 or 5: 17\n",
      "Fizz: 18\n",
      "Not a multiple of 3 or 5: 19\n",
      "Buzz: 20\n",
      "Fizz: 21\n",
      "Not a multiple of 3 or 5: 22\n",
      "Not a multiple of 3 or 5: 23\n",
      "Fizz: 24\n",
      "Buzz: 25\n",
      "Not a multiple of 3 or 5: 26\n",
      "Fizz: 27\n",
      "Not a multiple of 3 or 5: 28\n",
      "Not a multiple of 3 or 5: 29\n",
      "FizzBuzz: 30\n",
      "Not a multiple of 3 or 5: 31\n",
      "Not a multiple of 3 or 5: 32\n",
      "Fizz: 33\n",
      "Not a multiple of 3 or 5: 34\n",
      "Buzz: 35\n",
      "Fizz: 36\n",
      "Not a multiple of 3 or 5: 37\n",
      "Not a multiple of 3 or 5: 38\n",
      "Fizz: 39\n",
      "Buzz: 40\n",
      "Not a multiple of 3 or 5: 41\n",
      "Fizz: 42\n",
      "Not a multiple of 3 or 5: 43\n",
      "Not a multiple of 3 or 5: 44\n",
      "FizzBuzz: 45\n",
      "Not a multiple of 3 or 5: 46\n",
      "Not a multiple of 3 or 5: 47\n",
      "Fizz: 48\n",
      "Not a multiple of 3 or 5: 49\n",
      "Buzz: 50\n",
      "Fizz: 51\n",
      "Not a multiple of 3 or 5: 52\n",
      "Not a multiple of 3 or 5: 53\n",
      "Fizz: 54\n",
      "Buzz: 55\n",
      "Not a multiple of 3 or 5: 56\n",
      "Fizz: 57\n",
      "Not a multiple of 3 or 5: 58\n",
      "Not a multiple of 3 or 5: 59\n",
      "FizzBuzz: 60\n",
      "Not a multiple of 3 or 5: 61\n",
      "Not a multiple of 3 or 5: 62\n",
      "Fizz: 63\n",
      "Not a multiple of 3 or 5: 64\n",
      "Buzz: 65\n",
      "Fizz: 66\n",
      "Not a multiple of 3 or 5: 67\n",
      "Not a multiple of 3 or 5: 68\n",
      "Fizz: 69\n",
      "Buzz: 70\n",
      "Not a multiple of 3 or 5: 71\n",
      "Fizz: 72\n",
      "Not a multiple of 3 or 5: 73\n",
      "Not a multiple of 3 or 5: 74\n",
      "FizzBuzz: 75\n",
      "Not a multiple of 3 or 5: 76\n",
      "Not a multiple of 3 or 5: 77\n",
      "Fizz: 78\n",
      "Not a multiple of 3 or 5: 79\n",
      "Buzz: 80\n",
      "Fizz: 81\n",
      "Not a multiple of 3 or 5: 82\n",
      "Not a multiple of 3 or 5: 83\n",
      "Fizz: 84\n",
      "Buzz: 85\n",
      "Not a multiple of 3 or 5: 86\n",
      "Fizz: 87\n",
      "Not a multiple of 3 or 5: 88\n",
      "Not a multiple of 3 or 5: 89\n",
      "FizzBuzz: 90\n",
      "Not a multiple of 3 or 5: 91\n",
      "Not a multiple of 3 or 5: 92\n",
      "Fizz: 93\n",
      "Not a multiple of 3 or 5: 94\n",
      "Buzz: 95\n",
      "Fizz: 96\n",
      "Not a multiple of 3 or 5: 97\n",
      "Not a multiple of 3 or 5: 98\n",
      "Fizz: 99\n",
      "Buzz: 100\n"
     ]
    }
   ],
   "source": [
    "# Strategy: \n",
    "# \n",
    "####################################################\n",
    "\n",
    "# Iterate from 0 to 101 with step of 1\n",
    "for x in range(0,101):\n",
    "    if (x % 3 == 0) and (x % 5 == 0):\n",
    "        # \"FizzBuzz\" if divisable by 3 and divisable by 5 with no remainder\n",
    "        print(\"FizzBuzz:\", x)\n",
    "    elif x % 5 == 0:\n",
    "        # \"Buzz\" if divisable divisable by 5 with no remainder\n",
    "        print(\"Buzz:\", x)\n",
    "\n",
    "    elif x % 3 == 0:\n",
    "        # \"FizzBuzz\" if divisable by 3 with no remainder\n",
    "        print(\"Fizz:\", x)\n",
    "    else:\n",
    "        # not divisable by 3 or divisable by 5 with no remainder\n",
    "        print(\"Not a multiple of 3 or 5:\", x)"
   ]
  },
  {
   "cell_type": "code",
   "execution_count": null,
   "metadata": {},
   "outputs": [],
   "source": []
  }
 ],
 "metadata": {
  "anaconda-cloud": {},
  "kernelspec": {
   "display_name": "Python 3",
   "language": "python",
   "name": "python3"
  },
  "language_info": {
   "codemirror_mode": {
    "name": "ipython",
    "version": 3
   },
   "file_extension": ".py",
   "mimetype": "text/x-python",
   "name": "python",
   "nbconvert_exporter": "python",
   "pygments_lexer": "ipython3",
   "version": "3.7.3"
  }
 },
 "nbformat": 4,
 "nbformat_minor": 2
}
