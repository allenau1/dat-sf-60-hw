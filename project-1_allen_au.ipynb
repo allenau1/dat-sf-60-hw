{
 "cells": [
  {
   "cell_type": "markdown",
   "metadata": {},
   "source": [
    "# Class: [Data Science](https://git.generalassemb.ly/meccaLeccaHi/dat-sf-60)\n",
    "\n",
    "**Student:** [Allen Au](https://www.linkedin.com/in/auallen/)\n",
    "    \n",
    "**Date:** Oct. 3, 2019\n",
    "\n",
    "## Project 1: Python Coding Exercise\n",
    "\n",
    "* [Challenge 1: Largest Palindrome](#Challenge-1:-Largest-Palindrome)\n",
    "* [Challenge 2: Summation of Primes](#Challenge-2:-Sumamation-of-Primes)\n",
    "* [Challenge 3: Multiples of 3 and 5](#Challenge-3:-Multiples-of-3-and-5)\n",
    "* [Challenge 4: String Compressor](#Challenge-4:-String-Compressor)\n",
    "* [BONUS Challenge: FizzBuzz](#BONUS-Challenge:-FizzBuzz)\n",
    "\n",
    "---"
   ]
  },
  {
   "cell_type": "markdown",
   "metadata": {},
   "source": [
    "### Challenge 1: Largest Palindrome\n",
    "A palindromic number reads the same both ways. For example, 1234321 is a palindrome. The largest palindrome made from the product of two two-digit numbers is 9009 = 91 × 99. Find the largest palindrome made from the product of two three-digit numbers."
   ]
  },
  {
   "cell_type": "code",
   "execution_count": 48,
   "metadata": {
    "scrolled": false
   },
   "outputs": [
    {
     "name": "stdout",
     "output_type": "stream",
     "text": [
      "Max Palindrome: 906609\n"
     ]
    }
   ],
   "source": [
    "# Strategy:\n",
    "#\n",
    "# - [] Why do I have to typecast back to ints at the end?\n",
    "####################################################    \n",
    "    \n",
    "max_palindrome = 0\n",
    "start = 100 # start is inclusive in range\n",
    "end = 1000 # End is not inclusive in range\n",
    "\n",
    "for x in range(start, end):    \n",
    "    for y in range(start, end):\n",
    "        # Calculate product\n",
    "        product = x * y\n",
    "        # type cast to string in order to apply slicing in reverse order\n",
    "        product_string = str(product)\n",
    "        reverse_product_string = product_string[::-1]\n",
    "        \n",
    "        # Determine if the product is a palindrom\n",
    "        if product_string == reverse_product_string:\n",
    "            # Compare and store the larger product\n",
    "            if (int(product) > int(max_palindrome)): # I'm not sure why I had to typecast back to int to make this work?\n",
    "                 max_palindrome = product_string\n",
    "\n",
    "print(\"Max Palindrome: {}\".format(max_palindrome))"
   ]
  },
  {
   "cell_type": "markdown",
   "metadata": {},
   "source": [
    "### Challenge 2: Summation of Primes\n",
    "The sum of the primes below 10 is 2 + 3 + 5 + 7 = 17. Find the sum of all the primes below 2,000."
   ]
  },
  {
   "cell_type": "code",
   "execution_count": 82,
   "metadata": {},
   "outputs": [
    {
     "name": "stdout",
     "output_type": "stream",
     "text": [
      "Total of Primes: 277050\n"
     ]
    }
   ],
   "source": [
    "# Strategy:\n",
    "#\n",
    "####################################################\n",
    "prime_set = []\n",
    "total = 0\n",
    "start = 2 # start is inclusive in range\n",
    "end = 2000 # End is not inclusive in range\n",
    "\n",
    "for n in range(start, end): \n",
    "    prime = True       \n",
    "    for i in range(2,n):        \n",
    "        if n % i == 0:\n",
    "            prime = False\n",
    "    if prime == True:\n",
    "        prime_set.append(n)\n",
    "           \n",
    "#print(prime_set)\n",
    "for i in prime_set:\n",
    "    total += i\n",
    "    \n",
    "print(\"Total of Primes: {}\".format(total))\n"
   ]
  },
  {
   "cell_type": "markdown",
   "metadata": {},
   "source": [
    "### Challenge 3: Multiples of 3 and 5\n",
    "If we list all of the natural numbers below 10 that are multiples of 3 or 5, we get 3, 5, 6, and 9. The sum of these multiples is 23. Find the sum of all the multiples of 3 and 5 below 1,000."
   ]
  },
  {
   "cell_type": "code",
   "execution_count": 50,
   "metadata": {},
   "outputs": [
    {
     "name": "stdout",
     "output_type": "stream",
     "text": [
      "Sum: 233168\n"
     ]
    }
   ],
   "source": [
    "# Strategy:\n",
    "#\n",
    "####################################################\n",
    "sum = 0\n",
    "multiples_of_3_or_5 = []\n",
    "start = 0 # start is inclusive in range\n",
    "end = 1000 # End is not inclusive in range\n",
    "\n",
    "for i in range(start, end):\n",
    "    if((i % 3 == 0) or (i % 5 == 0)):\n",
    "        multiples_of_3_or_5.append(i)\n",
    "        \n",
    "for n in multiples_of_3_or_5:\n",
    "    sum += n\n",
    "print(\"Sum: {}\".format(sum))"
   ]
  },
  {
   "cell_type": "markdown",
   "metadata": {},
   "source": [
    "### Challenge 4: String Compressor\n",
    "Implement a method to perform basic string compression using the counts of repeated characters. (This is called run-length encoding.) For example, the string \"aabcccccaaa\" would become a2b1c5a3. If the “compressed” string would not become smaller than the original string, your method should return the original string. You can assume the string has only uppercase and lowercase letters (a–z). Specify whether your solution is case sensitive or case insensitive and what you would need to change to make it the other."
   ]
  },
  {
   "cell_type": "code",
   "execution_count": 51,
   "metadata": {},
   "outputs": [
    {
     "name": "stdout",
     "output_type": "stream",
     "text": [
      "Compressed String: \n",
      "Compressed String: A\n",
      "Compressed String: aa\n",
      "Compressed String: a3\n",
      "Compressed String: abcd\n",
      "Compressed String: a2b1c6a3\n",
      "Compressed String: x5y1x5z4\n",
      "Compressed String: a4e2n2s3o5d3\n",
      "Compressed String: 019185\n",
      "Compressed String: 33a5e4a282\n"
     ]
    }
   ],
   "source": [
    "# Strategy: \n",
    "#  * ignore_case flag\n",
    "#    ignore_case = 0: Does not alter the case of each character and will the calculation will be case sensitive\n",
    "#    ignore_case = 1: changes all characters to lower case before the compressed string is evaluated \n",
    "#\n",
    "#  * Calculates initial string length.  If length is lower than 0 to 2 charaters, the compressed string will not be lower than the initial string.\n",
    "#     The initial string can be returned and bypass the compressed string calculation\n",
    "#\n",
    "####################################################\n",
    "\n",
    "def string_compressor(my_string, ignore_case = 0):\n",
    "    compressed_string = \"\"\n",
    "    last_char = \"\"\n",
    "    consecutive_char_count = 0\n",
    "       \n",
    "#     if len(my_string) == 0 or len(my_string) == 1:\n",
    "    if len(my_string) <= 2:       \n",
    "        compressed_string = my_string\n",
    "    else:        \n",
    "        \n",
    "        for char in my_string:\n",
    "            if ignore_case == 1:\n",
    "#                 print(\"Orig char:\", char)\n",
    "                char = char.lower()\n",
    "#             print(char)\n",
    "            \n",
    "            if last_char == char:\n",
    "                consecutive_char_count += 1\n",
    "\n",
    "            else:\n",
    "                if consecutive_char_count > 0:\n",
    "                    compressed_string += last_char + str(consecutive_char_count)\n",
    "                            \n",
    "                last_char = char\n",
    "            \n",
    "                consecutive_char_count = 1\n",
    "        compressed_string += last_char + str(consecutive_char_count)\n",
    "\n",
    "        if len(compressed_string) >= len(my_string):\n",
    "            compressed_string = my_string\n",
    "            \n",
    "    return compressed_string\n",
    "\n",
    "\n",
    "for test in ['', 'A', 'aa','aaa','abcd','aabccccccaaa', 'xxxxxyxxxxxzzzz', 'AAAaEENNSSSOOOOODDD','0988888', '333aaaaAeeEEaa88']:\n",
    "    print(\"Compressed String:\", string_compressor(test, ignore_case = 1))"
   ]
  },
  {
   "cell_type": "markdown",
   "metadata": {},
   "source": [
    "### BONUS Challenge: FizzBuzz\n",
    "Write a program that prints all of the numbers from 1 to 100. For multiples of 3, instead of the number, print \"Fizz;\" for multiples of 5, print \"Buzz.\" For numbers that are multiples of both 3 and 5, print \"FizzBuzz.\""
   ]
  },
  {
   "cell_type": "code",
   "execution_count": 83,
   "metadata": {},
   "outputs": [
    {
     "name": "stdout",
     "output_type": "stream",
     "text": [
      "FizzBuzz: 0\n",
      "Not a multiple of 3 or 5: 1\n",
      "Not a multiple of 3 or 5: 2\n",
      "Fizz: 3\n",
      "Not a multiple of 3 or 5: 4\n",
      "Buzz: 5\n",
      "Fizz: 6\n",
      "Not a multiple of 3 or 5: 7\n",
      "Not a multiple of 3 or 5: 8\n",
      "Fizz: 9\n",
      "Buzz: 10\n",
      "Not a multiple of 3 or 5: 11\n",
      "Fizz: 12\n",
      "Not a multiple of 3 or 5: 13\n",
      "Not a multiple of 3 or 5: 14\n",
      "FizzBuzz: 15\n",
      "Not a multiple of 3 or 5: 16\n",
      "Not a multiple of 3 or 5: 17\n",
      "Fizz: 18\n",
      "Not a multiple of 3 or 5: 19\n",
      "Buzz: 20\n",
      "Fizz: 21\n",
      "Not a multiple of 3 or 5: 22\n",
      "Not a multiple of 3 or 5: 23\n",
      "Fizz: 24\n",
      "Buzz: 25\n",
      "Not a multiple of 3 or 5: 26\n",
      "Fizz: 27\n",
      "Not a multiple of 3 or 5: 28\n",
      "Not a multiple of 3 or 5: 29\n",
      "FizzBuzz: 30\n",
      "Not a multiple of 3 or 5: 31\n",
      "Not a multiple of 3 or 5: 32\n",
      "Fizz: 33\n",
      "Not a multiple of 3 or 5: 34\n",
      "Buzz: 35\n",
      "Fizz: 36\n",
      "Not a multiple of 3 or 5: 37\n",
      "Not a multiple of 3 or 5: 38\n",
      "Fizz: 39\n",
      "Buzz: 40\n",
      "Not a multiple of 3 or 5: 41\n",
      "Fizz: 42\n",
      "Not a multiple of 3 or 5: 43\n",
      "Not a multiple of 3 or 5: 44\n",
      "FizzBuzz: 45\n",
      "Not a multiple of 3 or 5: 46\n",
      "Not a multiple of 3 or 5: 47\n",
      "Fizz: 48\n",
      "Not a multiple of 3 or 5: 49\n",
      "Buzz: 50\n",
      "Fizz: 51\n",
      "Not a multiple of 3 or 5: 52\n",
      "Not a multiple of 3 or 5: 53\n",
      "Fizz: 54\n",
      "Buzz: 55\n",
      "Not a multiple of 3 or 5: 56\n",
      "Fizz: 57\n",
      "Not a multiple of 3 or 5: 58\n",
      "Not a multiple of 3 or 5: 59\n",
      "FizzBuzz: 60\n",
      "Not a multiple of 3 or 5: 61\n",
      "Not a multiple of 3 or 5: 62\n",
      "Fizz: 63\n",
      "Not a multiple of 3 or 5: 64\n",
      "Buzz: 65\n",
      "Fizz: 66\n",
      "Not a multiple of 3 or 5: 67\n",
      "Not a multiple of 3 or 5: 68\n",
      "Fizz: 69\n",
      "Buzz: 70\n",
      "Not a multiple of 3 or 5: 71\n",
      "Fizz: 72\n",
      "Not a multiple of 3 or 5: 73\n",
      "Not a multiple of 3 or 5: 74\n",
      "FizzBuzz: 75\n",
      "Not a multiple of 3 or 5: 76\n",
      "Not a multiple of 3 or 5: 77\n",
      "Fizz: 78\n",
      "Not a multiple of 3 or 5: 79\n",
      "Buzz: 80\n",
      "Fizz: 81\n",
      "Not a multiple of 3 or 5: 82\n",
      "Not a multiple of 3 or 5: 83\n",
      "Fizz: 84\n",
      "Buzz: 85\n",
      "Not a multiple of 3 or 5: 86\n",
      "Fizz: 87\n",
      "Not a multiple of 3 or 5: 88\n",
      "Not a multiple of 3 or 5: 89\n",
      "FizzBuzz: 90\n",
      "Not a multiple of 3 or 5: 91\n",
      "Not a multiple of 3 or 5: 92\n",
      "Fizz: 93\n",
      "Not a multiple of 3 or 5: 94\n",
      "Buzz: 95\n",
      "Fizz: 96\n",
      "Not a multiple of 3 or 5: 97\n",
      "Not a multiple of 3 or 5: 98\n",
      "Fizz: 99\n",
      "Buzz: 100\n"
     ]
    }
   ],
   "source": [
    "# Strategy: \n",
    "# \n",
    "####################################################\n",
    "\n",
    "for x in range(0,101):\n",
    "    if (x % 3 == 0) and (x % 5 == 0):\n",
    "        print(\"FizzBuzz: {}\".format(x))\n",
    "    elif x % 3 == 0:\n",
    "        print(\"Fizz: {}\".format(x))        \n",
    "    elif x % 5 == 0:\n",
    "        print(\"Buzz: {}\".format(x))\n",
    "    else:\n",
    "        print(\"Not a multiple of 3 or 5: {}\".format(x))"
   ]
  },
  {
   "cell_type": "code",
   "execution_count": null,
   "metadata": {},
   "outputs": [],
   "source": []
  }
 ],
 "metadata": {
  "anaconda-cloud": {},
  "kernelspec": {
   "display_name": "Python 3",
   "language": "python",
   "name": "python3"
  },
  "language_info": {
   "codemirror_mode": {
    "name": "ipython",
    "version": 3
   },
   "file_extension": ".py",
   "mimetype": "text/x-python",
   "name": "python",
   "nbconvert_exporter": "python",
   "pygments_lexer": "ipython3",
   "version": "3.7.3"
  }
 },
 "nbformat": 4,
 "nbformat_minor": 2
}
