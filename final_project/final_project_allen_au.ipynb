{
 "cells": [
  {
   "cell_type": "markdown",
   "metadata": {
    "slideshow": {
     "slide_type": "slide"
    }
   },
   "source": [
    "# Class: [Data Science](https://git.generalassemb.ly/meccaLeccaHi/dat-sf-60)\n",
    "\n",
    "**Student:** [Allen Au](https://www.linkedin.com/in/auallen/)    \n",
    "    \n",
    "**Date:** Dec. 3, 2019\n",
    "\n",
    "## Final Project: TBD\n",
    "\n",
    "---"
   ]
  },
  {
   "cell_type": "markdown",
   "metadata": {
    "slideshow": {
     "slide_type": "slide"
    }
   },
   "source": [
    "# Proposal"
   ]
  },
  {
   "cell_type": "markdown",
   "metadata": {
    "slideshow": {
     "slide_type": "slide"
    }
   },
   "source": [
    "## The Problem\n",
    "\n",
    "Visibility into Real Estate market has historically been opaque and segregated through local Multiple Listing Service (MLS) systems.  The understanding of a local market required a personal relationship with a Real Estate Broker with access to a local MLS sytesm.  Real Estate investment continues to be challenged with the following:\n",
    "\n",
    "Cost\n",
    "1. Requires a signifant capitol outlay \n",
    "2. Less liquid investment compared to stocks\n",
    "3. Transaction cost is significant (closing cost, escrow, real estate agents, attourney fees, etc.)\n",
    "\n",
    "**Predictablity**\n",
    "3. Real Estate valuation can be emotional and subjective\n",
    "4. Minimal insight into local market trends\n",
    " "
   ]
  },
  {
   "cell_type": "markdown",
   "metadata": {
    "slideshow": {
     "slide_type": "slide"
    }
   },
   "source": [
    "## Proposal"
   ]
  },
  {
   "cell_type": "markdown",
   "metadata": {
    "slideshow": {
     "slide_type": "slide"
    }
   },
   "source": [
    "With the advent of publicaly assesible data through government (City, State, US Gov.) agencies and private companies(i.e., Zillow), historical trends, insights, and predication can be asserted."
   ]
  },
  {
   "cell_type": "markdown",
   "metadata": {
    "slideshow": {
     "slide_type": "slide"
    }
   },
   "source": [
    "### Potential Datasets\n",
    "\n",
    "**NYC Real Estate**\n",
    "* New York City AirBnb: Historical analysis, Trends, Predictions (hosts, location, price)\n",
    " * Data Set: https://www.kaggle.com/dgomonov/new-york-city-airbnb-open-data\n",
    " \n",
    " \n",
    "* New York Property Sales: Historical analysis, Trends, Predictions (buildings, apartments, location, price) \n",
    " * Data Set: https://www.kaggle.com/new-york-city/nyc-property-sales\n",
    " \n",
    " \n",
    "* Zillow Rent Index, 2010-Present\n",
    " * Data Set: https://www.kaggle.com/zillow/rent-index"
   ]
  },
  {
   "cell_type": "markdown",
   "metadata": {
    "slideshow": {
     "slide_type": "slide"
    }
   },
   "source": [
    "### Hypothesis"
   ]
  },
  {
   "cell_type": "markdown",
   "metadata": {
    "slideshow": {
     "slide_type": "slide"
    }
   },
   "source": [
    "**Goals and success metrics:**\n",
    "1. Determine relative pricing relationship between different property types\n",
    "2. Identify neigborhood trends and their relationships with each other\n",
    "3. Establsh a prediction for a particual neighborhood\n",
    "\n",
    "**Risks or limitations:**\n",
    "What shortcoming exist for this data that make it less than ideal for answering this particular question?\n",
    "1. Datasets above may not be complete\n",
    "2. Datasets above may be biased during collection\n",
    "3. Datasets above may not support specific questios in goals\n",
    "\n"
   ]
  },
  {
   "cell_type": "markdown",
   "metadata": {
    "slideshow": {
     "slide_type": "slide"
    }
   },
   "source": [
    "### Strategies\n",
    " * https://www.kaggle.com/anilak1978/new-york-city-real-estate-property-analysis\n",
    " \n",
    " * https://www.kaggle.com/c/house-prices-advanced-regression-techniques'\n",
    " \n",
    " * https://medium.com/geoai/house-hunting-the-data-scientist-way-b32d93f5a42f"
   ]
  }
 ],
 "metadata": {
  "celltoolbar": "Slideshow",
  "kernelspec": {
   "display_name": "Python 3",
   "language": "python",
   "name": "python3"
  },
  "language_info": {
   "codemirror_mode": {
    "name": "ipython",
    "version": 3
   },
   "file_extension": ".py",
   "mimetype": "text/x-python",
   "name": "python",
   "nbconvert_exporter": "python",
   "pygments_lexer": "ipython3",
   "version": "3.7.3"
  }
 },
 "nbformat": 4,
 "nbformat_minor": 2
}
